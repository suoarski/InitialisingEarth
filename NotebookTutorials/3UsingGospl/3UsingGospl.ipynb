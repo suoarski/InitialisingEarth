{
 "cells": [
  {
   "cell_type": "code",
   "execution_count": null,
   "id": "9c9557af",
   "metadata": {},
   "outputs": [],
   "source": [
    "import stripy\n",
    "import meshplex\n",
    "import numpy as np\n",
    "import pyvista as pv\n",
    "from scipy import interpolate\n",
    "from PlateBoundaries import *\n",
    "from TectonicEarth import Earth\n",
    "from gospl._fortran import definegtin\n",
    "from EarthsAssistant import EarthAssist"
   ]
  },
  {
   "cell_type": "markdown",
   "id": "e9b5f61c",
   "metadata": {},
   "source": [
    "# Gospl\n",
    "\n",
    "Gospl is a python based numerical model for simulating various global scale erosion processes. It takes plate tectonic landscape displacements along with climatic data as input, and simulates *long-term catchment dynamic and drainage evolution as well as sedimentary basins formation*. We will analyze how to run simulations in Gospl to gain a better understanding of it.\n",
    "\n",
    "### Input yml Files\n",
    "\n",
    "In Gospl, simulation properties and input files are specified by *.yml* files. We will discuss an example input *.yml* file, and provide examples for generating and reading data referenced by the *.yml* files. For a more detailed documentation of *.yml* attributes used in *Gospl*, see the [official user guide](https://gospl.readthedocs.io/en/latest/user_guide/inputfile.html) documentation.\n",
    "\n",
    "##### Domain\n",
    "\n",
    "A *Gospl* input *yml* file begins by specifying the name, and the domain of the erosion simulation. It declares the location of the *.npz* file containing data of the initial surface mesh to be used by *Gospl*, some other simulation parameters, and takes the following form:\n",
    "\n",
    "``` yml\n",
    "name: Example input yml file\n",
    "\n",
    "domain:\n",
    "  npdata: 'ExampleInput/0Ma'\n",
    "  flowdir: 5\n",
    "  fast: False\n",
    "  backward: False\n",
    "  interp: 1\n",
    " ```\n",
    " \n",
    "The main parameter of our interest here is *npdata*, which specifies the file location of the initial surface mesh to be used by Gospl. The file needs to be an *.npz* file, which essentially multiple numpy arrays stored as a file. The *ExampleInput/0Ma.npz* file was taken from the Gospl *dualLithology* notebook tutorial, and contains the following arrays:\n",
    "\n",
    "- v: Vertices\n",
    "- c: Cells\n",
    "- n: Nearest Neighbours\n",
    "- z: Elevations"
   ]
  },
  {
   "cell_type": "code",
   "execution_count": null,
   "id": "23cb800c",
   "metadata": {},
   "outputs": [],
   "source": [
    "#Load npz file\n",
    "npzFile = np.load('ExampleInput/0Ma.npz')\n",
    "print(npzFile.files)\n",
    "\n",
    "#Get arrays stored in file\n",
    "vertices = npzFile['v']\n",
    "cells = npzFile['c']\n",
    "nearestNeighbours = npzFile['n']\n",
    "elevations = npzFile['z']\n",
    "\n",
    "#Print the shape of arrays within the npz file\n",
    "print(vertices.shape)\n",
    "print(cells.shape)\n",
    "print(nearestNeighbours.shape)\n",
    "print(elevations.shape)"
   ]
  },
  {
   "cell_type": "markdown",
   "id": "d3f6f7d7",
   "metadata": {},
   "source": [
    "We can create a pyvista mesh object for visualizations of the earth's initial elevation from the npz file. To do so we will require an array of exagerated earth's radius, and a list of faces, which can be done as follows:"
   ]
  },
  {
   "cell_type": "code",
   "execution_count": null,
   "id": "6b89bd67",
   "metadata": {},
   "outputs": [],
   "source": [
    "#Read npz file and return as numpy arrays\n",
    "def readNPZfile(npzFileDir):\n",
    "    npzFile = np.load(npzFileDir)\n",
    "    return npzFile['v'], npzFile['c'], npzFile['n'], npzFile['z']\n",
    "\n",
    "#Given an npz file, we create an pyvista mesh of earth\n",
    "def createMeshFromNPZdata(vertices, cells, heights, heightAmplification=30):\n",
    "    faces = []\n",
    "    exageratedRadius = vertices + heightAmplification * heights * vertices / np.max(vertices)\n",
    "    for cell in cells:\n",
    "        faces.append(3)\n",
    "        faces.append(cell[0])\n",
    "        faces.append(cell[1])\n",
    "        faces.append(cell[2])\n",
    "    earthMesh = pv.PolyData(exageratedRadius, faces)\n",
    "    earthMesh['heights'] = heights\n",
    "    return earthMesh\n",
    "\n",
    "#Run the newly created functions\n",
    "vertices, cells, neighbours, heights = readNPZfile('ExampleInput/0Ma.npz')\n",
    "earthMesh = createMeshFromNPZdata(vertices, cells, heights)\n",
    "contour = earthMesh.contour([0])\n",
    "\n",
    "#Display mesh\n",
    "plotter = pv.PlotterITK()\n",
    "plotter.add_mesh(earthMesh, scalars='heights')\n",
    "plotter.add_mesh(contour, color=\"black\", opacity=1.)\n",
    "plotter.show()"
   ]
  },
  {
   "cell_type": "markdown",
   "id": "e2850bce",
   "metadata": {},
   "source": [
    "We would now like to create an appropriate *npz* file from our earth object as discussed in our previous notebooks. Because erosion algorithms used in Gospl depend on nearby neighbours of vertices, it benefits from using an icosahedral sphere (Icosphere), instead of the UV sphere that we have been using so far. So we begin by interpolating heights from our UV sphere to heights on an Icosphere, which is generated by the stripy library."
   ]
  },
  {
   "cell_type": "code",
   "execution_count": null,
   "id": "2e33130f",
   "metadata": {},
   "outputs": [],
   "source": [
    "#Create an icosphere and interpolate earth heights onto it\n",
    "def earthToIcosphere(earth, subdivisions=6, iteration=-1):\n",
    "    icosphere = stripy.spherical_meshes.icosahedral_mesh(\n",
    "                    include_face_points = False, \n",
    "                    refinement_levels = subdivisions)\n",
    "    icosphereXYZ = icosphere._points * earth.earthRadius\n",
    "    radLonLat = EarthAssist.cartesianToPolarCoords(icosphereXYZ)\n",
    "    icoLonLat = np.stack((radLonLat[1], radLonLat[2]), axis=1)\n",
    "    icoCells = icosphere.simplices\n",
    "    \n",
    "    #Interpolate heights\n",
    "    earthHeights = earth.heightHistory[iteration]\n",
    "    icoLonLat = np.stack((radLonLat[1], radLonLat[2]), axis=1)\n",
    "    icoHeights = interpolate.griddata(earth.lonLat, earthHeights, icoLonLat, method='cubic')\n",
    "    icoHeights = icoHeights[:, np.newaxis]\n",
    "    return icosphereXYZ, icoCells, icoHeights"
   ]
  },
  {
   "cell_type": "markdown",
   "id": "845a6a9f",
   "metadata": {},
   "source": [
    "The above function takes an *Earth* object as input, and returns arrays suitable for the vertices, cells and elevations that need to be written to the *.npz* file. The only array missing now is the nearestNeighbours array, which is generated by the function bellow which is based on code from the *bfModel* notebook tutorial provided by *Gospl*."
   ]
  },
  {
   "cell_type": "code",
   "execution_count": null,
   "id": "bc5a90b5",
   "metadata": {},
   "outputs": [],
   "source": [
    "#Create list of neighbour ids based on bfModel notebook tutorial\n",
    "def getNeighbourIds(icoXYZ, icoCells):\n",
    "    Gmesh = meshplex.MeshTri(icoXYZ, icoCells)\n",
    "    s = Gmesh.idx_hierarchy.shape\n",
    "    a = np.sort(Gmesh.idx_hierarchy.reshape(s[0], -1).T)\n",
    "    Gmesh.edges = {'points': np.unique(a, axis=0)}\n",
    "    ngbNbs, ngbID = definegtin(len(icoXYZ), Gmesh.cells['points'], Gmesh.edges['points'])\n",
    "    ngbIDs = ngbID[:,:8].astype(int)\n",
    "    return ngbIDs\n",
    "\n",
    "#Create an appropriate npz file from earth object and return the file name of the new npz file\n",
    "def createNPZfromEarth(earth, outDirectory='GeneratedInputFiles/', iteration=-1, subdivisions=6):\n",
    "    vertices, cells, heights = earthToIcosphere(earth, subdivisions=subdivisions)\n",
    "    neighbours = getNeighbourIds(vertices, cells)\n",
    "    \n",
    "    #Create appropriate file name and save data as npz\n",
    "    time = earth.timeHistory[iteration]\n",
    "    fileName = '{}Subdivisions{}Time{}Mya'.format(outDirectory, subdivisions, time)\n",
    "    np.savez_compressed(fileName, v=vertices, c=cells, n=neighbours.astype(int), z=heights)\n",
    "    return fileName + '.npz'\n",
    "    \n",
    "\n",
    "#Create instance of earth object to run newly created functions with\n",
    "earth = Earth(\n",
    "            startTime = 30,\n",
    "            endTime = 0,\n",
    "            deltaTime = 5,\n",
    "            baseUplift = 2000,\n",
    "            distTransRange = 1000000, \n",
    "            numToAverageOver = 10,\n",
    "            earthRadius = 6378137.,\n",
    "            useKilometres = False\n",
    ")\n",
    "\n",
    "#Create the npz file to be used by Gospl\n",
    "npzFileName = createNPZfromEarth(earth)\n",
    "\n",
    "#Read the newly created npz file as before to check that everything is working as expected\n",
    "vertices, cells, neighbours, heights = readNPZfile(npzFileName)\n",
    "earthMesh = createMeshFromNPZdata(vertices, cells, heights)\n",
    "contour = earthMesh.contour([0])\n",
    "\n",
    "#Display the mesh\n",
    "plotter = pv.PlotterITK()\n",
    "plotter.add_mesh(earthMesh, scalars='heights')\n",
    "plotter.add_mesh(contour, color=\"black\", opacity=1.)\n",
    "plotter.show()"
   ]
  }
 ],
 "metadata": {
  "kernelspec": {
   "display_name": "Python 3",
   "language": "python",
   "name": "python3"
  },
  "language_info": {
   "codemirror_mode": {
    "name": "ipython",
    "version": 3
   },
   "file_extension": ".py",
   "mimetype": "text/x-python",
   "name": "python",
   "nbconvert_exporter": "python",
   "pygments_lexer": "ipython3",
   "version": "3.6.9"
  }
 },
 "nbformat": 4,
 "nbformat_minor": 5
}
