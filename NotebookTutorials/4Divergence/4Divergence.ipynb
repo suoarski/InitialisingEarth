{
 "cells": [
  {
   "cell_type": "markdown",
   "id": "7b9d6762",
   "metadata": {},
   "source": [
    "#### Note To Self\n",
    "\n",
    "As of now, when I run the tectonic earth simulations for too long, the resulting mountains get too big. Although I have made attempts at solving this issue in the past, I feel like erosion processes is what I should be using. I should modify the Gospl notebook so that a new gospl simulation is run after each tectonic earth simulation iteration, and see if the Gospl errosion algorithm prevents my mountains from growing too high."
   ]
  },
  {
   "cell_type": "code",
   "execution_count": null,
   "id": "83652f5c",
   "metadata": {},
   "outputs": [],
   "source": [
    "import numpy as np\n",
    "import pyvista as pv\n",
    "from TectonicEarth import Earth\n",
    "import matplotlib.pyplot as plt\n",
    "from scipy.spatial import cKDTree\n",
    "from GosplManager import GosplManager\n",
    "from PlateBoundaries import Boundaries\n",
    "from EarthsAssistant import EarthAssist"
   ]
  },
  {
   "cell_type": "code",
   "execution_count": null,
   "id": "59554409",
   "metadata": {},
   "outputs": [],
   "source": [
    "#Code to confirm that all code based on previous notebooks works as expected\n",
    "if False:\n",
    "    earth = Earth(\n",
    "                startTime = 10,\n",
    "                endTime = 0,\n",
    "                deltaTime = 1,\n",
    "                baseUplift = 2000,\n",
    "                distTransRange = 1000000, \n",
    "                numToAverageOver = 10,\n",
    "                earthRadius = 6378137.,\n",
    "                useKilometres = False,\n",
    "                useGospl = True)\n",
    "    \n",
    "    #Run earth simulation, run Gospl simulation and animate results\n",
    "    earth.runTectonicSimulation()\n",
    "    #gosplMan = GosplManager(earth, subdivisions=4)\n",
    "    #gosplMan.createAllFilesAndRunSimulation()\n",
    "    #gosplMan.animateGosplOutput()\n",
    "    earth.animate(lookAtLonLat=[0, 0])"
   ]
  },
  {
   "cell_type": "markdown",
   "id": "1d330e49",
   "metadata": {},
   "source": [
    "# Introduction\n",
    "\n",
    "As of now, our earth simulation seems to look ok as it runs over shorter periods of time. However, various errors become obvious as we run the simulation for longer. The most prominent problem so far is that when two continents diverge, they don't leave ocean behind. Additionally, we don't have a mechanism for ocean floor formations. These are both phenomina related to tectonic plate divergence which we will work towards solving in this notebook.\n",
    "\n",
    "This problem can be demonstrated clearly in the resulting animation bellow:"
   ]
  },
  {
   "cell_type": "code",
   "execution_count": null,
   "id": "a343f2c1",
   "metadata": {},
   "outputs": [],
   "source": [
    "%%HTML\n",
    "<video width=\"800\" height=\"608\" controls>\n",
    "  <source src=\"./NotebookFiles/DivergenceProblem.mp4\" type=\"video/mp4\">\n",
    "</video>"
   ]
  },
  {
   "cell_type": "markdown",
   "id": "2758f3b8",
   "metadata": {},
   "source": [
    "``` python\n",
    "#Code for generating the above video\n",
    "if False:\n",
    "    earth = Earth(\n",
    "        startTime = 100,\n",
    "        endTime = 0,\n",
    "        deltaTime = 2,\n",
    "        baseUplift = 2000,\n",
    "        distTransRange = 1000000, \n",
    "        numToAverageOver = 10,\n",
    "        earthRadius = 6378137.,\n",
    "        useKilometres = False,\n",
    "        useGospl = True),\n",
    "        useDivergeLowering = False\n",
    "    earth.runTectonicSimulation()\n",
    "    earth.animate()\n",
    "```\n",
    "\n",
    "# Diverging Continents\n",
    "\n",
    "In order to make diverging contents leave oceans behind, we need to lower vertices that are nearby diverging plate boundaries. In our code, we will refer to the amount of lowering as *divergeLowering*, which will depend on the following transfers:\n",
    "\n",
    "- **Distance Transfer** - The distance that a vertex is to the closest diverging plate boundary. Vertices that are close to a plate boundary should be lowered more than vertices far away from the boundaries, and so we will pass the distances through a gaussian shaped function to calculate the distance contribution to diverge lowering. Given the mean $\\mu$ and variance $\\sigma$, our gaussian is defined by:\n",
    "\n",
    "$$\n",
    "Gaussian(x, \\mu, \\sigma) = exp \\Big( \\frac{- (x - \\mu)^2}{\\sigma} \\Big)\n",
    "$$\n",
    "\n",
    "- **Height Transfer** - The current height of the vertex. Vertices that are on a higher elevation (on land) should be lowered more than vertices that have a lower elevation (in ocean). Therefore the height contribution will be calculated by passing the current heights of vertices through a sigmoid function. Given the centre $\\mu$ and steepness $s$, our sigmoid is defined by:\n",
    "\n",
    "$$\n",
    "Sigmoid(x, \\mu, s) = \\frac{1}{1 + e^{- s (x - \\mu)}}\n",
    "$$\n",
    "\n",
    "In the code bellow, we define these two functions and provide a simple plot of each. Note that the default parameters are chosen so that most of the function outputs varies at input values in the range $x \\in [-1, 1]$."
   ]
  },
  {
   "cell_type": "code",
   "execution_count": null,
   "id": "36d3bb1a",
   "metadata": {},
   "outputs": [],
   "source": [
    "#Gaussian function used for profile of diverge lowering\n",
    "def gaussian(x, mean=0, variance=0.25):\n",
    "    return np.exp(-((x - mean)**2) / variance)\n",
    "\n",
    "#Sigmoid function\n",
    "def sigmoid(x, centre=-0.1, steepness=6):\n",
    "    return 1 / (1 + np.exp(-(x - centre) * steepness))\n",
    "\n",
    "#Plot the gaussian and sigmoid functions\n",
    "x = np.arange(-2, 2, 0.01)\n",
    "fig, axs = plt.subplots(1, 2, figsize=(15, 6))\n",
    "axs[0].plot(x, gaussian(x, mean=0, variance=0.25))\n",
    "axs[0].title.set_text(\"Gaussian\")\n",
    "axs[0].set_xlabel('Distance Input')\n",
    "axs[0].set_ylabel('Output')\n",
    "axs[1].plot(x, sigmoid(x, centre=0, steepness=4))\n",
    "axs[1].title.set_text(\"Sigmoid\")\n",
    "axs[1].set_xlabel('Height Input')\n",
    "axs[1].set_ylabel('Output')"
   ]
  },
  {
   "cell_type": "markdown",
   "id": "0400a14e",
   "metadata": {},
   "source": [
    "Now that we have define the transfer functions for diverge lowering, we need to get the appropriate heights and distance input values. Getting the heights input is easy, since all we have to do is read the current heights from *Earth.heights*. However, to get the distances from diverging plate boundaries, we first need to get the location of all diverging plate boundaries, which can be identified by having a negative collision speed (as discussed in notebook 2). The distances will then be calculated based on the boundary lines. Most of the code for this is already contained in the *PlateBoundaries.py* file.\n",
    "\n",
    "The code bellow demonstrates how we will get our distances to diverging plate boundaries."
   ]
  },
  {
   "cell_type": "code",
   "execution_count": null,
   "id": "dbafb0f4",
   "metadata": {},
   "outputs": [],
   "source": [
    "#Get coordinates and line points of all diverging plate boundary locations\n",
    "def getDivergingBoundaries(boundaries):\n",
    "    divXYZ, divLinePoints = [], []\n",
    "    for bound in boundaries.plateBoundaries:\n",
    "        for i in range(bound.lineCentres.shape[0]):\n",
    "            if bound.collisionSpeed[i] < 0:\n",
    "                divXYZ.append(bound.lineCentres[i])\n",
    "                divLinePoints.append(bound.linePoints[i])\n",
    "    return np.array(divXYZ), np.array(divLinePoints)\n",
    "\n",
    "#Get distance from vertices to diverging plate boundaries.\n",
    "def getDistanceToDivergence(divXYZ, sphereXYZ, linePoints):\n",
    "    distIds = cKDTree(divXYZ).query(sphereXYZ, k=1)[1]\n",
    "    distIds[distIds >= divXYZ.shape[0]] = divXYZ.shape[0]-1\n",
    "    closestLinePoints = linePoints[distIds]\n",
    "    distToBound = Boundaries.getDistsToLinesSeg(sphereXYZ, closestLinePoints)\n",
    "    return distToBound\n",
    "\n",
    "#Create an earth object\n",
    "earth = Earth(\n",
    "    startTime = 10,\n",
    "    endTime = 0,\n",
    "    deltaTime = 2,\n",
    "    baseUplift = 2000,\n",
    "    distTransRange = 1000000, \n",
    "    numToAverageOver = 10,\n",
    "    earthRadius = 6378137.,\n",
    "    useKilometres = False,\n",
    "    useGospl = True,\n",
    "    useDivergeLowering=False)\n",
    "\n",
    "#Create an instance of the Boundaries class (this code is normally called by earth.runTectonicSimulation())\n",
    "time = earth.startTime - earth.deltaTime\n",
    "plateIds = earth.getPlateIdsAtTime(time)\n",
    "rotations = earth.getRotations(plateIds, time)\n",
    "boundaries = Boundaries(time, earth, plateIds, rotations)\n",
    "\n",
    "#Run the newly defined functions\n",
    "divXYZ, divLinePoints = getDivergingBoundaries(boundaries)\n",
    "distToDivs = getDistanceToDivergence(divXYZ, earth.sphereXYZ, divLinePoints)\n",
    "\n",
    "#Visualize the results\n",
    "plotter = pv.PlotterITK()\n",
    "earthMesh = earth.getEarthMesh()\n",
    "earthMesh['distToDivs'] = distToDivs**0.25\n",
    "boundaryLines = Boundaries.getBoundaryLines(boundaries.plateBoundaries)\n",
    "plotter.add_mesh(earthMesh, scalars='distToDivs')\n",
    "plotter.add_mesh(boundaryLines, color='r')\n",
    "plotter.show()"
   ]
  },
  {
   "cell_type": "markdown",
   "id": "7e81368c",
   "metadata": {},
   "source": [
    "Using the data that we have just calculated, getting the diverge lowering is simple, as shown bellow:"
   ]
  },
  {
   "cell_type": "code",
   "execution_count": null,
   "id": "49614c23",
   "metadata": {},
   "outputs": [],
   "source": [
    "#Define function for diverge lowering\n",
    "def getDivergeLowering(distToDivs, heights, maxDistance=200000, minMaxHeights=8000):\n",
    "    distanceTransfer = gaussian(distToDivs / maxDistance)\n",
    "    heightTransfer = sigmoid(heights / minMaxHeights)\n",
    "    return distanceTransfer * heightTransfer\n",
    "\n",
    "#Get diverge lowering\n",
    "divergeLowering = getDivergeLowering(distToDivs, earth.heights)\n",
    "\n",
    "#Visualize results\n",
    "plotter = pv.PlotterITK()\n",
    "earthMesh['divergeLowering'] = divergeLowering\n",
    "plotter.add_mesh(earthMesh, scalars='divergeLowering')\n",
    "plotter.add_mesh(boundaryLines, color='r')\n",
    "plotter.show()"
   ]
  },
  {
   "cell_type": "markdown",
   "id": "7b2c43b3",
   "metadata": {},
   "source": [
    "Now that we have gotten the diverge lowering property, we want to apply it at each of earth's simulation step. In the code bellow, the function *doSimulationStep()* is similar to *earth.doSimulationStep()*, but with diverge lowering also implemented in it. We then provide an animation of the results."
   ]
  },
  {
   "cell_type": "code",
   "execution_count": null,
   "id": "9fca37a4",
   "metadata": {},
   "outputs": [],
   "source": [
    "#Given an earth object, apply diverge lowering to it\n",
    "def applyDivergeLowering(earth, baseLowering=2000):\n",
    "    divXYZ, divLinePoints = getDivergingBoundaries(earth.boundaries)\n",
    "    distToDivs = getDistanceToDivergence(divXYZ, earth.sphereXYZ, divLinePoints)\n",
    "    earth.heights -= baseLowering * getDivergeLowering(distToDivs, earth.heights)\n",
    "\n",
    "#Function that is similar to earth.doSimulationStep() but with added code from this notebook\n",
    "def doSimulationStep(earth, time):\n",
    "    earth.heights = np.copy(earth.heightHistory[-1])\n",
    "    earth.timeHistory.append(time - earth.deltaTime)\n",
    "    earth.setPlateData(time)\n",
    "    earth.heights += earth.boundaries.getUplifts()\n",
    "    applyDivergeLowering(earth) #New line of code to be added in earth.doSimulationStep()\n",
    "    earth.movePlatesAndRemesh()\n",
    "    earth.createTectonicDisplacements()\n",
    "    \n",
    "#Create new earth object\n",
    "earth = Earth(\n",
    "    startTime = 20,\n",
    "    endTime = 0,\n",
    "    deltaTime = 1,\n",
    "    baseUplift = 2000,\n",
    "    distTransRange = 1000000, \n",
    "    numToAverageOver = 10,\n",
    "    earthRadius = 6378137.,\n",
    "    useKilometres = False,\n",
    "    useGospl = True,\n",
    "    useDivergeLowering=False)\n",
    "\n",
    "#Lopp that is similar to earth.runTectonicSimulation()\n",
    "for time in earth.simulationTimes[:-1]:\n",
    "    print('Currently simulating at {} Millions years ago'.format(time), end='\\r')\n",
    "    doSimulationStep(earth, time)\n",
    "\n",
    "earth.animate(lookAtLonLat=[0, 0])"
   ]
  },
  {
   "cell_type": "code",
   "execution_count": null,
   "id": "2c7303c7",
   "metadata": {},
   "outputs": [],
   "source": [
    "%%HTML\n",
    "<video width=\"800\" height=\"608\" controls>\n",
    "  <source src=\"./TectonicSimulation.mp4\" type=\"video/mp4\">\n",
    "</video>"
   ]
  }
 ],
 "metadata": {
  "kernelspec": {
   "display_name": "Python 3",
   "language": "python",
   "name": "python3"
  },
  "language_info": {
   "codemirror_mode": {
    "name": "ipython",
    "version": 3
   },
   "file_extension": ".py",
   "mimetype": "text/x-python",
   "name": "python",
   "nbconvert_exporter": "python",
   "pygments_lexer": "ipython3",
   "version": "3.6.9"
  }
 },
 "nbformat": 4,
 "nbformat_minor": 5
}
