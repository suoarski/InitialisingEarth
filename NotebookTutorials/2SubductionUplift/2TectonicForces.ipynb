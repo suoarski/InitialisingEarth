{
 "cells": [
  {
   "cell_type": "code",
   "execution_count": 1,
   "id": "b35b177c",
   "metadata": {},
   "outputs": [],
   "source": [
    "import os\n",
    "import pygplates\n",
    "import time as tme\n",
    "import numpy as np\n",
    "import pyvista as pv\n",
    "from numba import jit\n",
    "import matplotlib.pyplot as plt\n",
    "from scipy.spatial import cKDTree\n",
    "from scipy.interpolate import interp1d\n",
    "from scipy.spatial.distance import cdist\n",
    "from CodeAfterFirstNotebook import Earth"
   ]
  },
  {
   "cell_type": "markdown",
   "id": "996f57d5",
   "metadata": {},
   "source": [
    "In the previous notebook, we discussed how to move tectonic plates along a spherical earth. We will now discuss how we approximate various tectonic phenomina onto the earth, which will involve getting the distance and speeds that vertices are from the plate boundaries.\n",
    "\n",
    "# Plate Boundaries\n",
    "\n",
    "In calculating various tectonic forces, we will be needing data about various types of plate boundaries. We create a general *PlateBoundary* class, and two child-classes *SubductionBoundary* and *RidgeBoundary*. To initiate plate boundary, we will pass the *sharedBound* object obtained from the *pygplates* library, which reconstructs coordinates and other properties about plate boundaries.\n",
    "\n",
    "The attribute *sharedPlateIds* contains the plate ids of neighbouring plates for each point on the plate boundary. In most cases, *pygplates* provides two plates as the neighbouring plates, however occasionally it will provide a different number of neighbouring plates. If *pygplates* doesn't provide exactly two neighbouring plates, then we will not include that particular plate boundary section, as it will only cause problems in our code later on."
   ]
  },
  {
   "cell_type": "code",
   "execution_count": 2,
   "id": "d6895f7d",
   "metadata": {},
   "outputs": [],
   "source": [
    "#Define a few directory locations and other parameters\n",
    "mainDirectory = os.path.dirname(os.path.dirname(os.path.abspath('')))\n",
    "platePolygonsDirectory = mainDirectory + '/dataPygplates/Matthews_etal_GPC_2016_MesozoicCenozoic_PlateTopologies_PMAG.gpmlz'\n",
    "rotationsDirectory = mainDirectory + '/dataPygplates/Matthews_etal_GPC_2016_410-0Ma_GK07_PMAG.rot'\n",
    "rotationModel = pygplates.RotationModel(rotationsDirectory)\n",
    "earthRadius = 6378.137\n",
    "time = 0\n",
    "\n",
    "#Create a general plate boundary class\n",
    "class PlateBoundary:\n",
    "    def __init__(self, sharedBound):\n",
    "        \n",
    "        #Extract relevant data from sharedBounds\n",
    "        lon, lat, sharedPlateIds = [], [], []\n",
    "        for sharedSubSection in sharedBound.get_shared_sub_segments():\n",
    "            latLon = sharedSubSection.get_resolved_geometry().to_lat_lon_array()\n",
    "            \n",
    "            #Get ids of neighbouring plates\n",
    "            sharedId = []\n",
    "            for i in sharedSubSection.get_sharing_resolved_topologies():\n",
    "                idx = i.get_resolved_feature().get_reconstruction_plate_id()\n",
    "                sharedId.append(idx)\n",
    "            \n",
    "            #Ignore plate boundaries with not exactly two neighbouring plates\n",
    "            twoSharedIds =  (len(sharedId) == 2)\n",
    "            if not twoSharedIds:\n",
    "                continue\n",
    "            \n",
    "            #Append relevant data to lists\n",
    "            for i in range(len(latLon)):\n",
    "                lon.append(latLon[i, 1])\n",
    "                lat.append(latLon[i, 0])\n",
    "                sharedPlateIds.append(sharedId)\n",
    "        \n",
    "        #Store data as class attributes\n",
    "        self.lon = np.array(lon)\n",
    "        self.lat = np.array(lat)\n",
    "        self.XYZ = Earth.polarToCartesian(earthRadius, self.lon, self.lat)\n",
    "        self.sharedPlateIds = np.array(sharedPlateIds)\n",
    "        self.boundType = 0\n",
    "        self.gpmlBoundType = str(sharedBound.get_feature().get_feature_type())\n",
    "        \n",
    "        #These attributes will be set later\n",
    "        self.lineCentres = np.zeros((self.XYZ.shape[0] - 1, 3))\n",
    "        self.linePoints = np.zeros((self.XYZ.shape[0] - 1, 2, 3))\n",
    "        self.collisionSpeed = np.zeros(self.XYZ.shape[0] - 1)\n",
    "        self.speedDirection = np.zeros((self.XYZ.shape[0] - 1, 3))\n",
    "\n",
    "#Create child class for subduction plate boundaries\n",
    "class SubductionBoundary(PlateBoundary):\n",
    "    def __init__(self, sharedBound):\n",
    "        \n",
    "        #Run the parent's initialization\n",
    "        PlateBoundary.__init__(self, sharedBound)\n",
    "        \n",
    "        #Get plate ids of overriding plate and subducting plates\n",
    "        overPlateId, subPlateId = [], []\n",
    "        for sharedSubSection in sharedBound.get_shared_sub_segments():\n",
    "            overAndSubPlates = sharedSubSection.get_overriding_and_subducting_plates(True)\n",
    "            if (overAndSubPlates != None):\n",
    "                overridingPlate, subductingPlate, subduction_polarity = overAndSubPlates\n",
    "                overPlateId.append(overridingPlate.get_feature().get_reconstruction_plate_id())\n",
    "                subPlateId.append(subductingPlate.get_feature().get_reconstruction_plate_id())\n",
    "        \n",
    "        #Save data\n",
    "        self.overPateId = np.unique(overPlateId)\n",
    "        self.subPlateId = np.unique(subPlateId)\n",
    "        self.boundType = 1\n",
    "\n",
    "#Create child class for ridge plate boundaries\n",
    "class RidgeBoundary(PlateBoundary):\n",
    "    def __init__(self, sharedBound):\n",
    "        PlateBoundary.__init__(self, sharedBound)\n",
    "        self.boundType = 2"
   ]
  },
  {
   "cell_type": "markdown",
   "id": "e40c7baa",
   "metadata": {},
   "source": [
    "Now that we have defined our classes, we create a function that makes use of *pygplates* to return a list of plate boundary objects at a specified time."
   ]
  },
  {
   "cell_type": "code",
   "execution_count": 3,
   "id": "93a446b1",
   "metadata": {},
   "outputs": [],
   "source": [
    "#Since we are ignoring plate boundaries with not exactly two neighbouring plates,\n",
    "#Some plate boundaries will have no coordinates, so we ignore those\n",
    "def ignoreThisBoundary(sharedBound):\n",
    "    ignoreThis = True\n",
    "    for s in sharedBound.get_shared_sub_segments():\n",
    "        if len(s.get_sharing_resolved_topologies()) == 2:\n",
    "            ignoreThis = False\n",
    "    return ignoreThis\n",
    "\n",
    "#Create function that returns a list of plate boundaries at specified times\n",
    "def createPlateBoundariesAtTime(time, platePolygonsDirectory=None, rotationsDirectory=None):\n",
    "    if platePolygonsDirectory == None:\n",
    "        platePolygonsDirectory = mainDirectory + '/dataPygplates/Matthews_etal_GPC_2016_MesozoicCenozoic_PlateTopologies_PMAG.gpmlz'\n",
    "    if rotationsDirectory == None:\n",
    "        rotationsDirectory = mainDirectory + '/dataPygplates/Matthews_etal_GPC_2016_410-0Ma_GK07_PMAG.rot'\n",
    "    \n",
    "    #Use pygplates to get shared boundary sections at specified time\n",
    "    resolvedTopologies, sharedBoundarySections = [], []\n",
    "    rotationModel = pygplates.RotationModel(rotationsDirectory)\n",
    "    pygplates.resolve_topologies(platePolygonsDirectory, rotationModel, resolvedTopologies, time, sharedBoundarySections)\n",
    "    \n",
    "    #Loop through all shared plate boundaries\n",
    "    plateBoundaries = []\n",
    "    for sharedBound in sharedBoundarySections:\n",
    "\n",
    "        #Identify which type of boundary this is\n",
    "        boundType = sharedBound.get_feature().get_feature_type()\n",
    "        isSubduction = boundType == pygplates.FeatureType.gpml_subduction_zone\n",
    "        isOceanicRidge = boundType == pygplates.FeatureType.gpml_mid_ocean_ridge\n",
    "        if ignoreThisBoundary(sharedBound):\n",
    "            continue\n",
    "\n",
    "        #Create plate boundary object of appropriate type and append to list of plate boundaries\n",
    "        if isSubduction:\n",
    "            plateBoundaries.append(SubductionBoundary(sharedBound))\n",
    "        elif isOceanicRidge:\n",
    "            plateBoundaries.append(RidgeBoundary(sharedBound))\n",
    "        else:\n",
    "            plateBoundaries.append(PlateBoundary(sharedBound))\n",
    "            \n",
    "    return plateBoundaries"
   ]
  },
  {
   "cell_type": "markdown",
   "id": "b604192d",
   "metadata": {},
   "source": [
    "The following function will be used for converting a list of plate boundary objects into a *pyvista* mesh of lines for better visualizations of the plate boundaries."
   ]
  },
  {
   "cell_type": "code",
   "execution_count": 4,
   "id": "ea482297",
   "metadata": {
    "scrolled": false
   },
   "outputs": [
    {
     "data": {
      "application/vnd.jupyter.widget-view+json": {
       "model_id": "df65223d9e4548b7bbf016964fe84198",
       "version_major": 2,
       "version_minor": 0
      },
      "text/plain": [
       "Viewer(geometries=[{'vtkClass': 'vtkPolyData', 'points': {'vtkClass': 'vtkPoints', 'name': '_points', 'numberO…"
      ]
     },
     "metadata": {},
     "output_type": "display_data"
    },
    {
     "data": {
      "application/vnd.jupyter.widget-view+json": {
       "model_id": "df65223d9e4548b7bbf016964fe84198",
       "version_major": 2,
       "version_minor": 0
      },
      "text/plain": [
       "Viewer(geometries=[{'vtkClass': 'vtkPolyData', 'points': {'vtkClass': 'vtkPoints', 'name': '_points', 'numberO…"
      ]
     },
     "metadata": {},
     "output_type": "display_data"
    }
   ],
   "source": [
    "def getBoundaryLines(plateBounds):\n",
    "    \n",
    "    #Variables used to create the line pyvista object\n",
    "    XYZ, lineConnectivity, bType = [], [], []\n",
    "    \n",
    "    #Counter for keeping track of how many vertices we have used\n",
    "    xyzCount = 0\n",
    "    \n",
    "    #Loop through all plate boundaries\n",
    "    for bound in plateBounds:\n",
    "        \n",
    "        #Create lineID for defining line connectivity\n",
    "        numOfPoints = len(bound.XYZ)\n",
    "        lineConnectivity.append(numOfPoints)\n",
    "        lineID = np.arange(numOfPoints) + xyzCount\n",
    "        \n",
    "        #Loop through points in plate boundary and append to arrays\n",
    "        for i in range(numOfPoints):\n",
    "            lineConnectivity.append(lineID[i])\n",
    "            XYZ.append(bound.XYZ[i])\n",
    "            bType.append(bound.boundType)\n",
    "        xyzCount += numOfPoints\n",
    "        \n",
    "    #Create the line mesh\n",
    "    lineMesh = pv.PolyData(np.array(XYZ), lines=lineConnectivity)\n",
    "    lineMesh['boundType'] = np.array(bType)\n",
    "    return lineMesh\n",
    "\n",
    "#Create mesh object for plotting\n",
    "pBounds = createPlateBoundariesAtTime(10)\n",
    "lineMesh = getBoundaryLines(pBounds)\n",
    "\n",
    "#Plot the results\n",
    "plotter = pv.PlotterITK()\n",
    "plotter.add_mesh(pv.Sphere(radius=earthRadius-100))\n",
    "plotter.add_mesh(lineMesh, scalars='boundType')\n",
    "plotter.show()"
   ]
  },
  {
   "cell_type": "markdown",
   "id": "8b48daca",
   "metadata": {},
   "source": [
    "# Distance from Plate Boundaries\n",
    "\n",
    "To apply various tectonic forces, we will need to know how far a vertex is from plate boundaries. A simple yet naiive solution would be to use the *scipy.spatial.cKDTree()* function to get the distances from sphere points to boundary points. Although this approach works well for sphere points which are fairly far from plate boundaries, it does not work well for points near the boundary regions, as demonstrated bellow. \n",
    "\n",
    "What we want to do instead, is to measure the distance from the line spanned by two boundary points."
   ]
  },
  {
   "cell_type": "code",
   "execution_count": 5,
   "id": "4feb5fb9",
   "metadata": {},
   "outputs": [
    {
     "data": {
      "application/vnd.jupyter.widget-view+json": {
       "model_id": "0003227c72a54a378ae803e81cce9979",
       "version_major": 2,
       "version_minor": 0
      },
      "text/plain": [
       "Viewer(geometries=[{'vtkClass': 'vtkPolyData', 'points': {'vtkClass': 'vtkPoints', 'name': '_points', 'numberO…"
      ]
     },
     "metadata": {},
     "output_type": "display_data"
    },
    {
     "data": {
      "application/vnd.jupyter.widget-view+json": {
       "model_id": "0003227c72a54a378ae803e81cce9979",
       "version_major": 2,
       "version_minor": 0
      },
      "text/plain": [
       "Viewer(geometries=[{'vtkClass': 'vtkPolyData', 'points': {'vtkClass': 'vtkPoints', 'name': '_points', 'numberO…"
      ]
     },
     "metadata": {},
     "output_type": "display_data"
    }
   ],
   "source": [
    "#Create a sphere\n",
    "sphere = pv.Sphere(radius=earthRadius, theta_resolution=400, phi_resolution=400)\n",
    "sphereXYZ = sphere.points\n",
    "\n",
    "#Create plate boundaries and get its XYZ coordinates\n",
    "plateBounds = createPlateBoundariesAtTime(0)\n",
    "boundMesh = getBoundaryLines(plateBounds)\n",
    "boundXYZ = boundMesh.points\n",
    "\n",
    "#Calculate distances from points\n",
    "distances = cKDTree(boundXYZ).query(sphereXYZ)[0]\n",
    "\n",
    "#Display results\n",
    "plotter = pv.PlotterITK()\n",
    "plotter.add_mesh(sphere, scalars=distances**0.25)\n",
    "plotter.add_mesh(boundMesh, scalars='boundType')\n",
    "plotter.show()"
   ]
  },
  {
   "cell_type": "markdown",
   "id": "16c0d489",
   "metadata": {},
   "source": [
    "We will now explain how we calculate a distance from a line with reference to the image bellow. Let $\\textbf{s}$ be a point on the sphere, $\\textbf{p}_1$ and $\\textbf{p}_2$ be the two points spanning the boundary segments. In calculate the distance of $\\textbf{s}$ from the line segment, there are 3 possible cases:\n",
    "\n",
    " - $\\textbf{s}$ is closest to $\\textbf{p}_1$\n",
    " - $\\textbf{s}$ is closest to some point between $\\textbf{p}_1$ and $\\textbf{p}_2$\n",
    " - $\\textbf{s}$ is closest to $\\textbf{p}_2$\n",
    " \n",
    "Let $\\textbf{v} = \\textbf{p}_2 - \\textbf{p}_1$ and $\\textbf{w} = \\textbf{s} - \\textbf{p}_1$, then we can check which case we are in with:\n",
    "\n",
    "- Case 3: $\\textbf{w} \\cdot \\textbf{v} <= 0$\n",
    "- Case 1: If not case 3 and $\\textbf{v} \\cdot \\textbf{v} <= \\textbf{w} \\cdot \\textbf{v}$\n",
    "- Case 2: Otherwise\n",
    "\n",
    "Incase the reader may be unfamiliar with the dot product, taking the dot product of a vector with $\\textbf{v}$ gives the magnitude of the projection of the vector onto $\\textbf{v}$. Once we have identified which case we are in, we can make the appropriate distance calculation.\n",
    "\n",
    "<div>\n",
    "<img src=\"files/Images/ClosestToLineCropped2.png\" width=\"600\">\n",
    "</div>\n",
    "\n",
    "We split this task into 3 function and *getDistsToBounds()* will be the main function we call. It will use *prepareLines()* to get the centres and the points $\\textbf{p}_1$ and $\\textbf{p}_2$. We use *cKDTree()* to get the index of the closest line centres for each point on the sphere, which can be used to get the appropriate $\\textbf{p}_1$ and $\\textbf{p}_2$. We then use *getDistsToLinesSeg()* to calculate the appropriate distance as explained above. \n",
    "\n",
    "Since the function *getDistsToLinesSeg()* is slow, we use the *@jit(nopython=True)* decorator from the *numba* library to significantly speed things up. Although this decorator poses many restrictions on the content of the function such that we can not use many libraries apart from numpy, it speeds up our calculation by 10 times the speed. It is also a good habit to get into since it allows for GPU acceleration and can sometimes speed python code by 1000 times. If *numba* is not installed in your system, just uncomment the decorator and the function should run as normal, but slower."
   ]
  },
  {
   "cell_type": "code",
   "execution_count": 6,
   "id": "0d1703f0",
   "metadata": {},
   "outputs": [],
   "source": [
    "#Get line centres and points spanning each line\n",
    "def prepareLines(plateBounds):\n",
    "    lineCentres, linePoints = [], []\n",
    "    for bound in plateBounds:\n",
    "        for i in range(bound.XYZ.shape[0]-1):\n",
    "            point1 = bound.XYZ[i]\n",
    "            point2 = bound.XYZ[i+1]\n",
    "            lineCentres.append((point1 + point2) / 2)\n",
    "            linePoints.append([point1, point2])\n",
    "    return np.array(lineCentres), np.array(linePoints)\n",
    "\n",
    "#Get distance from line segments\n",
    "@jit(nopython=True)\n",
    "def getDistsToLinesSeg(sphereXYZ, closestLinePoints):\n",
    "    distToBound = np.zeros(sphereXYZ.shape[0])\n",
    "    for i in range(sphereXYZ.shape[0]):\n",
    "        linePoints = closestLinePoints[i]\n",
    "        xyz = sphereXYZ[i]\n",
    "\n",
    "        #Append distance from vertex 0\n",
    "        v = linePoints[1] - linePoints[0]\n",
    "        w = xyz - linePoints[0]\n",
    "        if np.dot(w, v) <= 0:\n",
    "            distToZero = np.linalg.norm(linePoints[0] - xyz)\n",
    "            distToBound[i] = distToZero\n",
    "\n",
    "        #Append distance from vertex 1  \n",
    "        elif np.dot(v, v) <= np.dot(w, v):\n",
    "            distToOne = np.linalg.norm(linePoints[1] - xyz)\n",
    "            distToBound[i] = distToOne\n",
    "\n",
    "        #Append distance from somewhere in the line centre\n",
    "        else:\n",
    "            numerator = np.linalg.norm(np.cross(linePoints[1] - xyz, linePoints[1] - linePoints[0]))\n",
    "            denominator = np.linalg.norm(linePoints[1] - linePoints[0])\n",
    "            distToLine = numerator / denominator\n",
    "            distToBound[i] = distToLine\n",
    "    return distToBound\n",
    "\n",
    "#Main function to call to get distance from plate boundaries\n",
    "def getDistsToBounds(plateBounds, sphereXYZ):\n",
    "    lineCentres, linePoints = prepareLines(plateBounds)\n",
    "    distIds = cKDTree(lineCentres).query(sphereXYZ)[1]\n",
    "    closestLinePoints = linePoints[distIds]\n",
    "    distToBound = getDistsToLinesSeg(sphereXYZ, closestLinePoints)\n",
    "    return distToBound"
   ]
  },
  {
   "cell_type": "markdown",
   "id": "72590b85",
   "metadata": {},
   "source": [
    "As we can see bellow, we now have much cleaner distances to plate boundaries."
   ]
  },
  {
   "cell_type": "code",
   "execution_count": 7,
   "id": "db455dd4",
   "metadata": {},
   "outputs": [
    {
     "data": {
      "application/vnd.jupyter.widget-view+json": {
       "model_id": "32771490fc204fe6965cfd3c0f1b8034",
       "version_major": 2,
       "version_minor": 0
      },
      "text/plain": [
       "Viewer(geometries=[{'vtkClass': 'vtkPolyData', 'points': {'vtkClass': 'vtkPoints', 'name': '_points', 'numberO…"
      ]
     },
     "metadata": {},
     "output_type": "display_data"
    },
    {
     "data": {
      "application/vnd.jupyter.widget-view+json": {
       "model_id": "32771490fc204fe6965cfd3c0f1b8034",
       "version_major": 2,
       "version_minor": 0
      },
      "text/plain": [
       "Viewer(geometries=[{'vtkClass': 'vtkPolyData', 'points': {'vtkClass': 'vtkPoints', 'name': '_points', 'numberO…"
      ]
     },
     "metadata": {},
     "output_type": "display_data"
    }
   ],
   "source": [
    "#Run the newly defined functions\n",
    "distToBound = getDistsToBounds(plateBounds, sphereXYZ)\n",
    "\n",
    "#Display results\n",
    "plotter = pv.PlotterITK()\n",
    "plotter.add_mesh(sphere, scalars=distToBound**0.25)\n",
    "plotter.add_mesh(boundMesh, scalars='boundType')\n",
    "plotter.show()"
   ]
  },
  {
   "cell_type": "markdown",
   "id": "8395f1b9",
   "metadata": {},
   "source": [
    "# Speed of Collision\n",
    "\n",
    "In order to approximate forces such as subduction uplift or ocean floor formation, we will require the speed at which plates converge or diverge. We will use positive speeds to represent converging plate boundaries and negative speeds to represent diverging plate boundaries. We will use the term *velocity* in the context of vectors (direction and magnitude) and *speed* as only the magnitude of the velocity.\n",
    "\n",
    "Velocity$\\textbf{v}$ is defined as the rate of change in position $\\textbf{x}$, given by:\n",
    "\n",
    "$$\n",
    "\\textbf{v} = \\frac{\\delta \\textbf{x}}{\\delta t}\n",
    "$$\n",
    "\n",
    "Here $\\delta t$ is the chage in time and $\\delta \\textbf{x}$ is the change in position at each iteration of our simulation. To calculate $\\delta \\textbf{x}$ for any point $\\textbf{x}$ on a plate boundary, we apply rotations $r_0$ and $r_1$ on $\\textbf{x}$ from plates on either sides of the plate boundary, and the change in position can be calculated by:\n",
    "\n",
    "$$\n",
    "\\delta \\textbf{x} = r_1(\\textbf{x}) - r_0(\\textbf{x})\n",
    "$$\n",
    "\n",
    "The speed $s$ can then be obtained by taking the vector norm of the velocit $\\| \\textbf{v} \\|$.\n",
    "\n",
    "$$\n",
    "\\| \\textbf{v} \\| = \\Big\\| \\frac{r_1(\\textbf{x}) - r_0(\\textbf{x})}{\\delta t} \\Big\\|\n",
    "$$\n",
    "\n",
    "To assign each speed a positive or negative coefficient representing convergence or divergence, we apply rotations $r_0$ and $r_1$ to the plate centres $\\textbf{c}_0$ and $\\textbf{c}_1$ of plates on either sides of the boundary, and see if they moved closer or further away from each other. In other words, we set the speed to negative if:\n",
    "\n",
    "$$\n",
    "\\| \\textbf{c}_1 - \\textbf{c}_0 \\| < \\| r_1(\\textbf{c}_1) - r_0(\\textbf{c}_0) \\|\n",
    "$$\n",
    "\n",
    "The plate centres are calculated as the average position of all vertices belonging on that plate. To identify which plates bellong to either sides of a plate boundary, we refer to the attribute *sharedPlateIds*. These IDs can then be used to get the appropriate rotations $r_0$ and $r_1$."
   ]
  },
  {
   "cell_type": "code",
   "execution_count": 8,
   "id": "c07e6b86",
   "metadata": {},
   "outputs": [],
   "source": [
    "#Create a dictionary containing plate Ids as keys and plate centres as values\n",
    "def getPlateCentres(sphereXYZ, plateIds):\n",
    "    plateCentres = {}\n",
    "    uniqueIds = np.unique(plateIds)\n",
    "    for i in range(uniqueIds.shape[0]):\n",
    "        plateXYZ = sphereXYZ[plateIds==uniqueIds[i]]# * earthRadius\n",
    "        plateCentres[uniqueIds[i]] = np.sum(plateXYZ, axis=0) / plateXYZ.shape[0]\n",
    "    return plateCentres\n",
    "\n",
    "#Calculate the speed of collisions\n",
    "def getCollisionsSpeeds(boundXYZ, sharedPlateIds, rotations, plateCentres, deltaTime):\n",
    "    speeds = np.zeros(boundXYZ.shape[0])\n",
    "    directions = np.zeros((boundXYZ.shape[0], 3))\n",
    "    speedDirection = np.zeros((boundXYZ.shape[0], 3))\n",
    "    for i in range(boundXYZ.shape[0]):\n",
    "        bXYZ = boundXYZ[i]\n",
    "        shareId = sharedPlateIds[i]\n",
    "        \n",
    "        #Some tectonic plates are so small that we don't have any vertices representing it\n",
    "        #Therefore, some sharedIds might not have rotations or plate centres defined for it\n",
    "        #In this case we simply set the speed to 0 and ignore the rest of this function\n",
    "        if not np.all(np.isin(shareId, list(rotations.keys()))):\n",
    "            continue\n",
    "        \n",
    "        #Calculate speed based on distance moved by rotations\n",
    "        rot0 = rotations[shareId[0]]\n",
    "        rot1 = rotations[shareId[1]]\n",
    "        movedXyz0 = rot0.apply(bXYZ)\n",
    "        movedXyz1 = rot1.apply(bXYZ)\n",
    "        velocity = (movedXyz1 - movedXyz0) / deltaTime\n",
    "        speed = np.linalg.norm(velocity)\n",
    "        if speed != 0:\n",
    "            directions[i] = velocity / speed\n",
    "        \n",
    "        #Identify if this boundary segment belongs to a converging or diverging boundary\n",
    "        #Then set speed to positive or negative value accordingly\n",
    "        cent0 = plateCentres[shareId[0]]\n",
    "        cent1 = plateCentres[shareId[1]]\n",
    "        centDist = np.linalg.norm(cent1 - cent0)\n",
    "        centDistAfter = np.linalg.norm(rot1.apply(cent1) - rot0.apply(cent0))\n",
    "        if centDist < centDistAfter:\n",
    "            speed = -speed\n",
    "        speeds[i] = speed\n",
    "    return speeds, directions"
   ]
  },
  {
   "cell_type": "markdown",
   "id": "509d02c9",
   "metadata": {},
   "source": [
    "We save collision speeds, directions and others as plate boundary object attributes. This way, whenever we find the closest plate bound for a given vertex on our sphere, we can easily obtain the corresponding attributes bellonging to that plate boundary object. We then define a function that returns speed related data given a list of plate boundary objects. The purpose of some of the speed related data will make more sense later in this notebook."
   ]
  },
  {
   "cell_type": "code",
   "execution_count": 9,
   "id": "c14742d3",
   "metadata": {},
   "outputs": [],
   "source": [
    "#We set the collision speed attribute for points in our plate boundary objects\n",
    "def setCollisionSpeeds(plateBounds, rotations, plateCentres, deltaTime):\n",
    "    for bound in plateBounds:\n",
    "        for i in range(bound.XYZ.shape[0]-1):\n",
    "            point1 = bound.XYZ[i]\n",
    "            point2 = bound.XYZ[i+1]\n",
    "            bound.lineCentres[i] = (point1 + point2) / 2\n",
    "            bound.linePoints[i, 0] = point1\n",
    "            bound.linePoints[i, 1] = point2\n",
    "        speeds, directions = getCollisionsSpeeds(\n",
    "            bound.lineCentres, \n",
    "            bound.sharedPlateIds[:-1], \n",
    "            rotations, \n",
    "            plateCentres, \n",
    "            deltaTime)\n",
    "        bound.collisionSpeed = speeds\n",
    "        bound.speedDirection = directions\n",
    "    return plateBounds\n",
    "\n",
    "#Given a list of subduction boundaries, we extract relevant data and return as arrays\n",
    "def getSpeedsData(subBounds):\n",
    "    boundXYZ, boundSpeed, boundDirection, linePoints = [], [], [], []\n",
    "    for bound in subBounds:\n",
    "        for i in range(bound.lineCentres.shape[0]):\n",
    "            boundXYZ.append(bound.lineCentres[i])\n",
    "            boundSpeed.append(bound.collisionSpeed[i])\n",
    "            boundDirection.append(bound.speedDirection[i])\n",
    "            linePoints.append(bound.linePoints[i])\n",
    "    boundSpeed = np.array(boundSpeed)\n",
    "    boundSpeed[boundSpeed < 0] = 0\n",
    "    linePoints = np.array(linePoints)\n",
    "    lineLengths = np.linalg.norm(linePoints[:, 0, :] - linePoints[:, 1, :], axis=1)\n",
    "    return np.array(boundXYZ), boundSpeed, np.array(boundDirection), linePoints, lineLengths"
   ]
  },
  {
   "cell_type": "markdown",
   "id": "0a036a07",
   "metadata": {},
   "source": [
    "The following functions are used for creating *pyvista* mesh objects for plotting purposes."
   ]
  },
  {
   "cell_type": "code",
   "execution_count": 10,
   "id": "9338eac4",
   "metadata": {},
   "outputs": [],
   "source": [
    "#Create pyvista mesh objects for plotting\n",
    "def getSpeedsMesh(boundCentXYZ, speeds, scale=600):\n",
    "    arrow = pv.Arrow(start=(-0.5, 0.0, 0.0))\n",
    "    boundMesh = pv.PolyData(boundCentXYZ * 1.05)\n",
    "    boundMesh['direction'] = boundCentXYZ\n",
    "    boundMesh['size'] = speeds / np.max(speeds)\n",
    "    speedVectors = boundMesh.glyph(geom=arrow, orient='direction', scale='size', factor=scale)\n",
    "    return speedVectors\n",
    "\n",
    "#Create mesh object for visualizing the direction of collisions\n",
    "def getSpeedDirectionsMesh(boundCentXYZ, directions, scale=300):\n",
    "    cylinder = pv.Cylinder(radius=0.02)\n",
    "    boundMesh = pv.PolyData(boundCentXYZ * 1.05)\n",
    "    boundMesh['direction'] = directions\n",
    "    directionMesh = boundMesh.glyph(geom=cylinder, orient='direction', factor=scale)\n",
    "    return directionMesh"
   ]
  },
  {
   "cell_type": "markdown",
   "id": "388a2430",
   "metadata": {},
   "source": [
    "We run the newly created functions and visualize the results. Arrows pointing away from the sphere represent converging boundaries, and arrows pointing downwards represent diverging boundaries. The collision direction is represented by lines (thin cylinders) oriented in the collision directions.\n",
    "\n",
    "We make use of code discussed in the previous notebook to get earth related data, which are required for our speed calculations. These include plateIds, rotations, topography and various others."
   ]
  },
  {
   "cell_type": "code",
   "execution_count": 11,
   "id": "fbf6274c",
   "metadata": {},
   "outputs": [
    {
     "data": {
      "application/vnd.jupyter.widget-view+json": {
       "model_id": "9623ea4ae4b449fba7b754f4617f22f7",
       "version_major": 2,
       "version_minor": 0
      },
      "text/plain": [
       "Viewer(geometries=[{'vtkClass': 'vtkPolyData', 'points': {'vtkClass': 'vtkPoints', 'name': '_points', 'numberO…"
      ]
     },
     "metadata": {},
     "output_type": "display_data"
    },
    {
     "data": {
      "application/vnd.jupyter.widget-view+json": {
       "model_id": "9623ea4ae4b449fba7b754f4617f22f7",
       "version_major": 2,
       "version_minor": 0
      },
      "text/plain": [
       "Viewer(geometries=[{'vtkClass': 'vtkPolyData', 'points': {'vtkClass': 'vtkPoints', 'name': '_points', 'numberO…"
      ]
     },
     "metadata": {},
     "output_type": "display_data"
    }
   ],
   "source": [
    "#Specify the date to consider for our data\n",
    "time = 5 #Million Years Ago\n",
    "\n",
    "#Use the imported code based on the previous tutorial to get relevant earth data\n",
    "earth = Earth(startTime=time)\n",
    "plateIds = earth.getPlateIdsAtTime(time)\n",
    "rotations = earth.getRotations(plateIds, time)\n",
    "sphereXYZ = earth.sphereXYZ# * earth.earthRadius\n",
    "plateCentres = getPlateCentres(sphereXYZ, plateIds)\n",
    "\n",
    "#Calculate collisions speeds\n",
    "plateBounds = createPlateBoundariesAtTime(time)\n",
    "plateBounds = setCollisionSpeeds(plateBounds, rotations, plateCentres, earth.deltaTime)\n",
    "boundCentXYZ, speeds, directions, linePoints, lineLengths = getSpeedsData(plateBounds)\n",
    "\n",
    "#Create mesh objects for plotting\n",
    "speedMesh = getSpeedsMesh(boundCentXYZ, speeds)\n",
    "directionMesh = getSpeedDirectionsMesh(boundCentXYZ, directions)\n",
    "exageratedRadius = 30 * earth.heightHistory[0] + earth.earthRadius\n",
    "earthMesh = pv.PolyData((earth.sphereXYZ.T * exageratedRadius).T, earth.earthFaces)\n",
    "\n",
    "#Display results\n",
    "plotter = pv.PlotterITK()\n",
    "plotter.add_mesh(earthMesh, scalars=earth.heightHistory[0])\n",
    "plotter.add_mesh(speedMesh)\n",
    "plotter.add_mesh(directionMesh)\n",
    "plotter.show()"
   ]
  },
  {
   "cell_type": "markdown",
   "id": "f4f08c61",
   "metadata": {},
   "source": [
    "# Subduction Uplift\n",
    "\n",
    "When two tectonic plates collide, one will typically submerge underneath the other, pushing the overriding plate upwards which leads to mountain growth. The class *SubductionBoundary* contains lists of overriding and subducting plates IDs which can be used to identify which plate to apply subduction uplift onto, corresponding to overriding plates.\n",
    "\n",
    "To approximate the change in height $\\delta h$ we apply to overriding vertices, we will consider:\n",
    "\n",
    "- $f(d, \\theta)$: The distance $d$ an overriding vertex is from the subduction boundary, and the angle $\\theta$ that a vertex makes with the direction of collision.\n",
    "- $g(s, \\theta)$: The speed $s$ at which nearby subduction boundaries are colliding with, and the angle $\\theta$.\n",
    "- $h(r_h)$: The current height $r_h$ of the vertex\n",
    "\n",
    "We will refer to each contribution as f, g, and h the distance, speed and height transfers.\n",
    "\n",
    "Note that for simplification purposes, we will treat orogenic belts (continental collision) as a subduction boundary where both sides of the boundary are considered to be overriding plates.\n",
    "\n",
    "### Distance Transfer\n",
    "\n",
    "To create the distance transfer $f(d)$, we will create a list template points to draw the distance transfer from. We will then use the quadratic 1 dimensional interpolation scheme *scipy.interpolate.interp1d()* to convert these points into a continuous function. When specifying these template points, the main features of the function should be kept within a range of $d$ and $f \\in [0, 1]$, so that the effective range of the distance transfer can be specified by $\\alpha$, which can be applied by using $f(\\frac{d}{\\alpha})$. \n",
    "\n",
    "Note that we will also be passing distances to $f(\\frac{d}{\\alpha})$ which fall outside the range of $[0, 1]$. To avoid crashing the *interp1d()* function, we will return 0 for those values. Also, since *interp1d()* fits a quadratic polynomial to the template points, we need to confirm that the resulting polynomial looks as desired by plotting it, otherwise we may get unexpected swings in the template curve."
   ]
  },
  {
   "cell_type": "code",
   "execution_count": 12,
   "id": "5254b524",
   "metadata": {},
   "outputs": [
    {
     "data": {
      "image/png": "[encoded data removed]",
      "text/plain": [
       "<Figure size 1080x288 with 2 Axes>"
      ]
     },
     "metadata": {
      "needs_background": "light"
     },
     "output_type": "display_data"
    }
   ],
   "source": [
    "#Template curve for the distance transfer for subduction uplift\n",
    "distTransPoints = np.array([\n",
    "    [-100, 0.0],\n",
    "    [-50, 0],\n",
    "    [-10, 0],\n",
    "    [-1.0, 0.0],\n",
    "    [-0.101, 0.0],\n",
    "    [-0.1, 0.0],\n",
    "    [0, 0.4],\n",
    "    [0.19, 1.0],\n",
    "    [0.21, 1.0],\n",
    "    [0.5, 0.5],\n",
    "    [0.99, 0.0],\n",
    "    [1.0, 0.0],\n",
    "    [5.0, 0.0],\n",
    "    [50.0, 0.0],\n",
    "    [100.0, 0.0]\n",
    "    ])\n",
    "distanceTransfer = interp1d(distTransPoints[:, 0], distTransPoints[:, 1], kind='quadratic')\n",
    "\n",
    "fig, axs = plt.subplots(1, 2, figsize=(15,4))\n",
    "fig.suptitle('Distance Transfer f(d)')\n",
    "\n",
    "d = np.arange(0, 1, 0.01)\n",
    "f = distanceTransfer(d)\n",
    "axs[0].plot(d, f)\n",
    "axs[0].set(xlabel='Distance (d)', ylabel='Distance Transfer f(d)')\n",
    "\n",
    "d = np.arange(-100, 100, 0.01)\n",
    "f = distanceTransfer(d)\n",
    "axs[1].plot(d, f)\n",
    "axs[1].set(xlabel='Distance (d)', ylabel='Distance Transfer f(d)')\n",
    "plt.show()"
   ]
  },
  {
   "cell_type": "markdown",
   "id": "788be797",
   "metadata": {},
   "source": [
    "For the sake of subduction uplift, we only want to measure distances from vertices to the subduction boundaries where this plate is overriding on. In other words, for a given plate, we don't want to measure distances to boundaries where this plate is subducting. To achieve this, we create a dictionay that has plateIds as keys, and returns the appropriate plateBoundary objects. We then loop through each plate Id on our earth, and use the dictionary to calculate distance from the appropriate plate boundaries."
   ]
  },
  {
   "cell_type": "code",
   "execution_count": 13,
   "id": "6864ed56",
   "metadata": {},
   "outputs": [
    {
     "data": {
      "application/vnd.jupyter.widget-view+json": {
       "model_id": "9cc2204546744301bde76ab07cece373",
       "version_major": 2,
       "version_minor": 0
      },
      "text/plain": [
       "Viewer(geometries=[{'vtkClass': 'vtkPolyData', 'points': {'vtkClass': 'vtkPoints', 'name': '_points', 'numberO…"
      ]
     },
     "metadata": {},
     "output_type": "display_data"
    },
    {
     "data": {
      "application/vnd.jupyter.widget-view+json": {
       "model_id": "9cc2204546744301bde76ab07cece373",
       "version_major": 2,
       "version_minor": 0
      },
      "text/plain": [
       "Viewer(geometries=[{'vtkClass': 'vtkPolyData', 'points': {'vtkClass': 'vtkPoints', 'name': '_points', 'numberO…"
      ]
     },
     "metadata": {},
     "output_type": "display_data"
    }
   ],
   "source": [
    "#Create dictionary with plate ids as keys and the plate's subduction boundary as values\n",
    "def getSubductionBoundsForEachPlateId(plateBounds):\n",
    "    idToSubBound = {}\n",
    "    for bound in plateBounds:\n",
    "        \n",
    "        #List to store plate ids of overriding plates for this boundary\n",
    "        overId = []\n",
    "        \n",
    "        #Append plate ids of overiding plates\n",
    "        if bound.boundType == 1:\n",
    "            for idx in bound.overPateId:\n",
    "                overId.append(idx)\n",
    "        \n",
    "        #Append plate ids of both sides of an orogenic belt\n",
    "        elif bound.gpmlBoundType == 'gpml:OrogenicBelt':\n",
    "            for sIds in bound.sharedPlateIds:\n",
    "                for idx in sIds:\n",
    "                    overId.append(idx)\n",
    "        \n",
    "        #We append this plate boundary to dictionary values with appropriate keys (plateIds)\n",
    "        overId = np.unique(overId)\n",
    "        for idx in overId:\n",
    "            if (idx not in list(idToSubBound.keys())):\n",
    "                idToSubBound[idx] = []\n",
    "            idToSubBound[idx].append(bound)\n",
    "    return idToSubBound\n",
    "\n",
    "#Using this dictionary, we can now measure the appropriate distances\n",
    "#The default distance will be zero\n",
    "def getDistanceToSubductionBoundary(sphereXYZ, plateIds, idToSubBound):\n",
    "    distToSub = np.zeros(sphereXYZ.shape[0])\n",
    "    for idx in np.unique(plateIds):\n",
    "        if (idx not in idToSubBound.keys()):\n",
    "            continue\n",
    "        \n",
    "        #Get the appropriate distance for vertices on this plate\n",
    "        subBounds = idToSubBound[idx]\n",
    "        xyzOnThisPlate = sphereXYZ[plateIds == idx]\n",
    "        dists = getDistsToBounds(subBounds, xyzOnThisPlate)\n",
    "        distToSub[plateIds == idx] = dists\n",
    "    return distToSub\n",
    "\n",
    "#We provide a demonstration of the distance transfer\n",
    "distTransRange = 2000\n",
    "idToSubBound = getSubductionBoundsForEachPlateId(plateBounds)\n",
    "distToSub = getDistanceToSubductionBoundary(sphereXYZ, plateIds, idToSubBound)\n",
    "distTrans = distanceTransfer(distToSub / distTransRange)\n",
    "distTrans[distToSub <= 0] = 0\n",
    "\n",
    "#Visualise the results\n",
    "plotter = pv.PlotterITK()\n",
    "plotter.add_mesh(earthMesh, scalars=distTrans)\n",
    "plotter.add_mesh(boundMesh, scalars='boundType')\n",
    "plotter.show()"
   ]
  },
  {
   "cell_type": "markdown",
   "id": "9aeb7e28",
   "metadata": {},
   "source": [
    "### Speed Transfer\n",
    "\n",
    "A simple yet naive approach for applying the speed transfer is:\n",
    "1. For each vertex on a given plate, find the closest valid subduction boundary\n",
    "2. Set the speed of each vertex to that of the closest subduction boundary\n",
    "\n",
    "However, theres a problem with this approach as demonstrated bellow. Calculating speeds in this way results in 'jumps' in the speed transfer. One region of a plate might have a single common closest subduction boundary, and a neighbouring region might have a common closest subduction boundary with a completely different speeds. At the transition of these two regions, the speed transfer will form a 'jump' in speed, which isn't realistic."
   ]
  },
  {
   "cell_type": "code",
   "execution_count": 14,
   "id": "f53f1df3",
   "metadata": {},
   "outputs": [
    {
     "data": {
      "application/vnd.jupyter.widget-view+json": {
       "model_id": "ac3c280934414d00840cf07eeaaa6bcf",
       "version_major": 2,
       "version_minor": 0
      },
      "text/plain": [
       "Viewer(geometries=[{'vtkClass': 'vtkPolyData', 'points': {'vtkClass': 'vtkPoints', 'name': '_points', 'numberO…"
      ]
     },
     "metadata": {},
     "output_type": "display_data"
    },
    {
     "data": {
      "application/vnd.jupyter.widget-view+json": {
       "model_id": "ac3c280934414d00840cf07eeaaa6bcf",
       "version_major": 2,
       "version_minor": 0
      },
      "text/plain": [
       "Viewer(geometries=[{'vtkClass': 'vtkPolyData', 'points': {'vtkClass': 'vtkPoints', 'name': '_points', 'numberO…"
      ]
     },
     "metadata": {},
     "output_type": "display_data"
    }
   ],
   "source": [
    "#Loop through each plate on our sphere\n",
    "speedTrans = np.zeros(sphereXYZ.shape[0])\n",
    "for idx in np.unique(plateIds):\n",
    "    if (idx not in idToSubBound.keys()):\n",
    "        continue\n",
    "    \n",
    "    #For each plate, get appropriate boundary data\n",
    "    boundXYZ, boundSpeed = [], []\n",
    "    for bound in idToSubBound[idx]:\n",
    "        for i in range(bound.lineCentres.shape[0]):\n",
    "            boundXYZ.append(bound.lineCentres[i])\n",
    "            boundSpeed.append(bound.collisionSpeed[i])\n",
    "    boundSpeed = np.array(boundSpeed)\n",
    "\n",
    "    #Get the distance from vertices to plate boundaries for this plate\n",
    "    xyzOnThisPlate = sphereXYZ[plateIds == idx]\n",
    "    distIds = cKDTree(boundXYZ).query(xyzOnThisPlate)[1]\n",
    "    speedTrans[plateIds == idx] = boundSpeed[distIds]\n",
    "\n",
    "#Display the results\n",
    "plotter = pv.PlotterITK()\n",
    "plotter.add_mesh(earthMesh, scalars=speedTrans)\n",
    "plotter.add_mesh(boundMesh, scalars='boundType')\n",
    "plotter.add_mesh(speedMesh)\n",
    "plotter.add_mesh(directionMesh)\n",
    "plotter.show()"
   ]
  },
  {
   "cell_type": "markdown",
   "id": "90bd77f8",
   "metadata": {},
   "source": [
    "To avoid these sudden jumps in speed transfers, we will find the closest $N$ subduction boundary coordinates, and our speed transfers will be based on an average of the collisions speeds of those $N$ boundaries."
   ]
  },
  {
   "cell_type": "code",
   "execution_count": 15,
   "id": "371d3b16",
   "metadata": {},
   "outputs": [
    {
     "data": {
      "application/vnd.jupyter.widget-view+json": {
       "model_id": "c021e57720444bc594ae68b9144b9231",
       "version_major": 2,
       "version_minor": 0
      },
      "text/plain": [
       "Viewer(geometries=[{'vtkClass': 'vtkPolyData', 'points': {'vtkClass': 'vtkPoints', 'name': '_points', 'numberO…"
      ]
     },
     "metadata": {},
     "output_type": "display_data"
    },
    {
     "data": {
      "application/vnd.jupyter.widget-view+json": {
       "model_id": "c021e57720444bc594ae68b9144b9231",
       "version_major": 2,
       "version_minor": 0
      },
      "text/plain": [
       "Viewer(geometries=[{'vtkClass': 'vtkPolyData', 'points': {'vtkClass': 'vtkPoints', 'name': '_points', 'numberO…"
      ]
     },
     "metadata": {},
     "output_type": "display_data"
    }
   ],
   "source": [
    "numToAverage = 10\n",
    "\n",
    "#Loop through each plate on our sphere\n",
    "speedTrans = np.zeros(sphereXYZ.shape[0])\n",
    "for idx in np.unique(plateIds):\n",
    "    if (idx not in idToSubBound.keys()):\n",
    "        continue\n",
    "    \n",
    "    #For each plate, get appropriate boundary data\n",
    "    boundXYZ, boundSpeed = [], []\n",
    "    for bound in idToSubBound[idx]:\n",
    "        for i in range(bound.lineCentres.shape[0]):\n",
    "            boundXYZ.append(bound.lineCentres[i])\n",
    "            boundSpeed.append(bound.collisionSpeed[i])\n",
    "    boundSpeed = np.array(boundSpeed)\n",
    "\n",
    "    #Get the distance from vertices to plate boundaries for this plate\n",
    "    xyzOnThisPlate = sphereXYZ[plateIds == idx]\n",
    "    distIds = cKDTree(boundXYZ).query(xyzOnThisPlate, k=numToAverage)[1]\n",
    "    \n",
    "    #Avoid 'index out of bounds error', which happens when 'numToAverage' is larger than the number of points on a boundary\n",
    "    distIds[distIds >= boundSpeed.shape[0]] = boundSpeed.shape[0]-1 \n",
    "    \n",
    "    boundSpeed = boundSpeed[distIds]\n",
    "    speedTrans[plateIds == idx] = np.sum(boundSpeed, axis=1) / numToAverage\n",
    "\n",
    "#Display the results\n",
    "plotter = pv.PlotterITK()\n",
    "plotter.add_mesh(earthMesh, scalars=speedTrans)\n",
    "plotter.add_mesh(boundMesh, scalars='boundType')\n",
    "plotter.add_mesh(speedMesh)\n",
    "plotter.add_mesh(directionMesh)\n",
    "plotter.show()"
   ]
  },
  {
   "cell_type": "markdown",
   "id": "2c662d28",
   "metadata": {},
   "source": [
    "The speed transfer so far does not include angle. For each $N$ closest plate boundary points, we want to calculate the angle $\\theta$ between the direction of plate collision, and direction from plate boundary to a vertex on a plate. Bellow is a function that returns the direction to N nearest boundary locations for each vertex on a plate. Similarly to the distance calculations, our calculations will be split into three different cases. In case 1 and 2, we get the directions from either boundary lines to the vertex, and in case 3, this direction is perpendicular to the boundary line."
   ]
  },
  {
   "cell_type": "code",
   "execution_count": 16,
   "id": "df401681",
   "metadata": {},
   "outputs": [],
   "source": [
    "#Get distance from line segments\n",
    "@jit(nopython=True)\n",
    "def getDirectionToBound(XYZ, closestLinePoints):\n",
    "    directionToBound = np.zeros((XYZ.shape[0], closestLinePoints.shape[1], 3))\n",
    "    for i in range(XYZ.shape[0]):\n",
    "        linePoints = closestLinePoints[i]\n",
    "        xyz = XYZ[i]\n",
    "\n",
    "        #Get v and w to identify which case we are in\n",
    "        v = linePoints[:, 1] - linePoints[:, 0]\n",
    "        w = xyz - linePoints[:, 0]\n",
    "        \n",
    "        #Loop through each point to average over (later on)\n",
    "        for j in range(w.shape[0]):\n",
    "            \n",
    "            #Case 1\n",
    "            if np.dot(w[j], v[j]) <= 0:\n",
    "                direction = linePoints[j, 0] - xyz\n",
    "                directionToBound[i, j] = direction / np.linalg.norm(direction)\n",
    "\n",
    "            #Case 2  \n",
    "            elif np.dot(v[j], v[j]) <= np.dot(w[j], v[j]):\n",
    "                direction = linePoints[j, 1] - xyz\n",
    "                directionToBound[i, j] = direction / np.linalg.norm(direction)\n",
    "\n",
    "            #Case 3\n",
    "            else:\n",
    "                #direction = np.cross(xyz, linePoints[j, 1] - linePoints[j, 0])\n",
    "                direction = np.cross(linePoints[j, 0], linePoints[j, 1] - linePoints[j, 0])\n",
    "                directionToBound[i, j] = direction / np.linalg.norm(direction)\n",
    "    return directionToBound"
   ]
  },
  {
   "cell_type": "markdown",
   "id": "c411ec87",
   "metadata": {},
   "source": [
    "### Combining Speed, Angle and Distance Transfers\n",
    "\n",
    "To get the speed and distance transfers, we will loop through each unique plate ID on the sphere in the *getTransfers()* function bellow. We then use *getTransfersForThisPlate()* to calculate some of the transfer data for each plate, and *getTransfers()* will use this data to create transfer data arrays for all points on our sphere.\n",
    "\n",
    "The angle transfer $\\cos(\\theta)$ will be calculated by taking the dot product between the direction from point to boundary, and direction of this boundary's collision. Since the shape of our input arrays are not suitable for *np.dot()*, we will use *np.einsum()* instead, which apparently is also faster (according to some guy on the internet). Since both direction arrays are already normalized, the dot product will give the appropriate angle.\n",
    "\n",
    "The speed transfers for each nearby subduction boundary, will be calculated by:\n",
    "\n",
    "$$\n",
    "g(s, \\theta) = \\| s \\cos(\\theta) \\|\n",
    "$$\n",
    "\n",
    "where $s$ is the speed of boundary collision. The purpose of including $\\cos(\\theta)$ is to ensure that points on a plate in the direction of collision are more heavily influenced.\n",
    "\n",
    "We also improve the distance transfer by including the angle transfer $\\cos(\\theta)$ in its calculation. This is done by passing the effective distance $d_{eff}$ into the distance transfer function discussed previously:\n",
    "\n",
    "$$\n",
    "f(d_{eff}) =  f \\Big( \\frac{d_a}{\\alpha \\cos(\\theta)} \\Big)\n",
    "$$\n",
    "\n",
    "where $d_a$ is the actual distance. This change will have make the distance transfer have a further range in the direction of collision."
   ]
  },
  {
   "cell_type": "code",
   "execution_count": 17,
   "id": "aed880ee",
   "metadata": {},
   "outputs": [],
   "source": [
    "#Calculates transfers one plate at a time\n",
    "def getTransfersForThisPlate(subBounds, xyzOnThisPlate, plateIds, numToAverageOver=80):\n",
    "    boundXYZ, boundSpeed, bCollisionsDirection, linePoints, lineLengths = getSpeedsData(subBounds)\n",
    "    \n",
    "    #Get distances and the index array distIds\n",
    "    distIds = cKDTree(boundXYZ).query(xyzOnThisPlate, k=numToAverageOver)[1]\n",
    "    distIds[distIds >= boundXYZ.shape[0]] = boundXYZ.shape[0]-1 #Avoid 'index out of bounds error'\n",
    "    closestLinePoints = linePoints[distIds]\n",
    "    distToBound = getDistsToLinesSeg(xyzOnThisPlate, closestLinePoints[:, 0])\n",
    "    directionToBound = getDirectionToBound(xyzOnThisPlate, closestLinePoints)\n",
    "    \n",
    "    #'distIds' contains the indices of the N closest boundaries for each vertex XYZ on this plate\n",
    "    boundSpds = boundSpeed[distIds]\n",
    "    lineLngths = lineLengths[distIds]\n",
    "    boundDirs = bCollisionsDirection[distIds]\n",
    "    \n",
    "    #Main transfer calculations\n",
    "    speedTrans = np.zeros((numToAverageOver, xyzOnThisPlate.shape[0]))\n",
    "    angleTrans = np.zeros((numToAverageOver, xyzOnThisPlate.shape[0]))\n",
    "    for j in range(numToAverageOver):\n",
    "        cosAngle = np.einsum('ij,ij->i', directionToBound[:, j], boundDirs[:, j]) #Dot product\n",
    "        speedTrans[j] = np.abs(boundSpds[:, j] * cosAngle)# * lineLngths[:, j])\n",
    "        angleTrans[j] = np.abs(cosAngle)\n",
    "    return speedTrans, angleTrans, distToBound\n",
    "\n",
    "#Calculates transfers for all plates on the sphere\n",
    "def getTransfers(sphereXYZ, plateIds, idToSubBound, numToAverageOver=80, distTransRange=1000):\n",
    "    speedTransfer, angleTransfer = np.zeros(sphereXYZ.shape[0]), np.zeros(sphereXYZ.shape[0])\n",
    "    distToSubBounds = np.zeros(sphereXYZ.shape[0])\n",
    "    for idx in np.unique(plateIds):\n",
    "        if (idx not in idToSubBound.keys()):\n",
    "            continue\n",
    "        \n",
    "        subBounds = idToSubBound[idx]\n",
    "        xyzOnThisPlate = sphereXYZ[plateIds == idx]\n",
    "        speedTrans, angleTrans, distToBound = getTransfersForThisPlate(subBounds, xyzOnThisPlate, plateIds, \n",
    "                                                                       numToAverageOver=numToAverageOver)\n",
    "        speedTransfer[plateIds==idx] = np.sum(speedTrans, axis=0) / numToAverageOver\n",
    "        angleTransfer[plateIds==idx] = np.sum(angleTrans, axis=0) / numToAverageOver\n",
    "        distToSubBounds[plateIds==idx] = distToBound\n",
    "    \n",
    "    #Calculate the distance transfer\n",
    "    dTransInput = distToSubBounds / (distTransRange * angleTransfer + 0.01)\n",
    "    dTransInput[dTransInput>=100] = 100\n",
    "    dTransInput[dTransInput<= -100] = -100\n",
    "    distTransfer = distanceTransfer(dTransInput) * (dTransInput <= 1.01)\n",
    "    return speedTransfer, distTransfer"
   ]
  },
  {
   "cell_type": "markdown",
   "id": "6bf13ea6",
   "metadata": {},
   "source": [
    "For the purpose of visualizing the results so far, we will define the subduction uplift to be $\\mu = f \\cdot g$. The earth bellow is color coded based on our suduction uplift approximations so far."
   ]
  },
  {
   "cell_type": "code",
   "execution_count": 18,
   "id": "36c0fa67",
   "metadata": {},
   "outputs": [
    {
     "data": {
      "application/vnd.jupyter.widget-view+json": {
       "model_id": "74871edb872248e494e339c0310bcd99",
       "version_major": 2,
       "version_minor": 0
      },
      "text/plain": [
       "Viewer(geometries=[{'vtkClass': 'vtkPolyData', 'points': {'vtkClass': 'vtkPoints', 'name': '_points', 'numberO…"
      ]
     },
     "metadata": {},
     "output_type": "display_data"
    },
    {
     "data": {
      "application/vnd.jupyter.widget-view+json": {
       "model_id": "74871edb872248e494e339c0310bcd99",
       "version_major": 2,
       "version_minor": 0
      },
      "text/plain": [
       "Viewer(geometries=[{'vtkClass': 'vtkPolyData', 'points': {'vtkClass': 'vtkPoints', 'name': '_points', 'numberO…"
      ]
     },
     "metadata": {},
     "output_type": "display_data"
    }
   ],
   "source": [
    "#Parameters that we can change\n",
    "numToAverageOver = 10\n",
    "distTransRange = 1000\n",
    "\n",
    "#Get transfers\n",
    "speedTransfer, distTransfer = getTransfers(sphereXYZ, plateIds, idToSubBound, \n",
    "                                                 numToAverageOver=numToAverageOver, \n",
    "                                                 distTransRange=distTransRange)\n",
    "#Calculate the tectonic uplifts\n",
    "uplifts = distTrans * speedTransfer\n",
    "uplifts[uplifts <= 0.0001] = 0.0001\n",
    "\n",
    "#Visualise the results\n",
    "plotter = pv.PlotterITK()\n",
    "plotter.add_mesh(earthMesh, scalars=uplifts)\n",
    "plotter.add_mesh(boundMesh, scalars='boundType')\n",
    "plotter.add_mesh(speedMesh)\n",
    "plotter.add_mesh(directionMesh)\n",
    "plotter.show()"
   ]
  },
  {
   "cell_type": "markdown",
   "id": "6d54d3a9",
   "metadata": {},
   "source": [
    "# Animating the Results"
   ]
  },
  {
   "cell_type": "markdown",
   "id": "19984be3",
   "metadata": {},
   "source": [
    "Now that we have shown how to calculate tectonic uplift at a particular time, we now want to combine it with our plate movement algorithm described in the previous notebook. We want to apply subduction uplift at each time step of our simulation.\n",
    "\n",
    "The code snipplet bellow is taken from the *CodeAfterFirstNotebook.py* file, which we have used throughout this notebook. It shows the main loop that runs the tectonic simulation over all specified times, and we have added comments to show where we will add the subduction uplift code.\n",
    "\n",
    "``` python\n",
    "def runTectonicSimulation(self):\n",
    "    for time in self.simulationTimes:\n",
    "        self.totalIterations += 1\n",
    "        plateIds = self.getPlateIdsAtTime(time)\n",
    "        rotations = self.getRotations(plateIds, time)\n",
    "        \n",
    "        #Insert uplift calculations here\n",
    "        \n",
    "        movedEarthXYZ = self.movePlates(plateIds, rotations)\n",
    "        movedLonLat = self.cartesianToPolarCoords(movedEarthXYZ)\n",
    "        movedLonLat = np.stack((movedLonLat[1], movedLonLat[2]), axis=1)\n",
    "        heights = self.remeshSphere(movedLonLat)\n",
    "        self.heightHistory.append(heights)\n",
    "```\n",
    "\n",
    "In the code bellow, we demonstrate the final results after combining the code of both notebooks. Since we don't have implemented any code yet to simulated diverging plate tectonics, running the simulation for a longer time span (Eg. 100 Mya to present) will not result in a realistic earth yet. When two continents diverge, they should leave ocean behind, but as of now our simulation simply leaves more land. Ocean floor formation also has not been implemented yet, and neither has any errosion simulations, making our earth as of now too smooth."
   ]
  },
  {
   "cell_type": "code",
   "execution_count": 19,
   "id": "b192287e",
   "metadata": {},
   "outputs": [
    {
     "name": "stdout",
     "output_type": "stream",
     "text": [
      "Current Time at: 0 Million Years Agoo\r"
     ]
    },
    {
     "data": {
      "application/vnd.jupyter.widget-view+json": {
       "model_id": "c272a0b4560d41c1b9d90ca2b791e76f",
       "version_major": 2,
       "version_minor": 0
      },
      "text/plain": [
       "Viewer(geometries=[{'vtkClass': 'vtkPolyData', 'points': {'vtkClass': 'vtkPoints', 'name': '_points', 'numberO…"
      ]
     },
     "metadata": {},
     "output_type": "display_data"
    }
   ],
   "source": [
    "baseUplift = 2\n",
    "\n",
    "#Crreate new earth object for animation\n",
    "earth = Earth(\n",
    "    startTime = 30,\n",
    "    endTime = 0,\n",
    "    deltaTime = 2,\n",
    "    heightAmplificationFactor = 30,\n",
    "    movieOutputDir = 'UpliftAnimation.mp4'\n",
    ")\n",
    "\n",
    "def getUplifts(sphereXYZ, plateIds, idToSubBound, numToAverageOver=10, distTransRange=1000):\n",
    "    speedTransfer, distTransfer = getTransfers(sphereXYZ, plateIds, idToSubBound, \n",
    "                                    numToAverageOver=numToAverageOver, distTransRange=distTransRange)\n",
    "    #Calculate the tectonic uplifts\n",
    "    uplifts = distTrans * speedTransfer\n",
    "    uplifts[uplifts <= 0.0001] = 0.0001\n",
    "    uplifts /= np.max(uplifts)\n",
    "    return uplifts\n",
    "\n",
    "#Main loop for iterating the simulation over various geological times\n",
    "for time in earth.simulationTimes:\n",
    "    print('Current Time at: {} Million Years Ago'.format(time), end='\\r')\n",
    "    \n",
    "    earth.totalIterations += 1\n",
    "    plateIds = earth.getPlateIdsAtTime(time)\n",
    "    rotations = earth.getRotations(plateIds, time)\n",
    "    \n",
    "    #Subduction uplift calculations\n",
    "    plateBounds = createPlateBoundariesAtTime(int(time))\n",
    "    plateCentres = getPlateCentres(earth.sphereXYZ, plateIds)\n",
    "    plateBounds = setCollisionSpeeds(plateBounds, rotations, plateCentres, earth.deltaTime)\n",
    "    idToSubBound = getSubductionBoundsForEachPlateId(plateBounds)\n",
    "    uplifts = getUplifts(sphereXYZ, plateIds, idToSubBound)\n",
    "    earth.heightHistory[-1] += baseUplift * uplifts\n",
    "    \n",
    "    #Move tectonic plates\n",
    "    movedEarthXYZ = earth.movePlates(plateIds, rotations)\n",
    "    movedLonLat = earth.cartesianToPolarCoords(movedEarthXYZ)\n",
    "    movedLonLat = np.stack((movedLonLat[1], movedLonLat[2]), axis=1)\n",
    "    heights = earth.remeshSphere(movedLonLat)\n",
    "    earth.heightHistory.append(heights)\n",
    "\n",
    "#Show the earth after a specified iteration of the simulation\n",
    "earth.showEarth(iteration=-1)"
   ]
  },
  {
   "cell_type": "code",
   "execution_count": 20,
   "id": "ee96fe5c",
   "metadata": {},
   "outputs": [
    {
     "data": {
      "application/vnd.jupyter.widget-view+json": {
       "model_id": "bdf78da1f0a5440eaf12377e7de33ae5",
       "version_major": 2,
       "version_minor": 0
      },
      "text/plain": [
       "ViewInteractiveWidget(height=608, layout=Layout(height='auto', width='100%'), width=800)"
      ]
     },
     "metadata": {},
     "output_type": "display_data"
    }
   ],
   "source": [
    "#The animation will be saved as an mp4 file in the same directory as this notebook.\n",
    "earth.animate()"
   ]
  },
  {
   "cell_type": "code",
   "execution_count": null,
   "id": "d7253942",
   "metadata": {
    "scrolled": true
   },
   "outputs": [],
   "source": []
  },
  {
   "cell_type": "code",
   "execution_count": null,
   "id": "e2935f82",
   "metadata": {},
   "outputs": [],
   "source": []
  },
  {
   "cell_type": "code",
   "execution_count": null,
   "id": "e20d6153",
   "metadata": {},
   "outputs": [],
   "source": []
  }
 ],
 "metadata": {
  "kernelspec": {
   "display_name": "Python 3",
   "language": "python",
   "name": "python3"
  },
  "language_info": {
   "codemirror_mode": {
    "name": "ipython",
    "version": 3
   },
   "file_extension": ".py",
   "mimetype": "text/x-python",
   "name": "python",
   "nbconvert_exporter": "python",
   "pygments_lexer": "ipython3",
   "version": "3.6.9"
  }
 },
 "nbformat": 4,
 "nbformat_minor": 5
}
