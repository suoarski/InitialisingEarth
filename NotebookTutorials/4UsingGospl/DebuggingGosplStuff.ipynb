{
 "cells": [
  {
   "cell_type": "code",
   "execution_count": null,
   "id": "938dedca",
   "metadata": {},
   "outputs": [],
   "source": [
    "import os, sys\n",
    "sys.path.append(os.path.dirname(os.path.dirname(os.getcwd())) + '/src/InitialisingEarth')\n",
    "from TectonicEarth import Earth\n",
    "earth = Earth()\n",
    "\n",
    "\n",
    "print(os.path.dirname(os.getcwd()))\n",
    "print(os.path.dirname(os.path.dirname(os.getcwd())) + '/src')\n",
    "\n",
    "#sys.path.append(os.path.dirname())"
   ]
  },
  {
   "cell_type": "code",
   "execution_count": null,
   "id": "f0826d7a",
   "metadata": {},
   "outputs": [],
   "source": []
  },
  {
   "cell_type": "code",
   "execution_count": null,
   "id": "bd1bceb4",
   "metadata": {},
   "outputs": [],
   "source": []
  },
  {
   "cell_type": "code",
   "execution_count": null,
   "id": "40fac8d8",
   "metadata": {},
   "outputs": [],
   "source": [
    "import os\n",
    "import h5py\n",
    "import stripy\n",
    "import meshplex\n",
    "import numpy as np\n",
    "import pyvista as pv\n",
    "from pathlib import Path\n",
    "from scipy import interpolate\n",
    "from PlateBoundaries import *\n",
    "from TectonicEarth import Earth\n",
    "from gospl.model import Model as sim\n",
    "from gospl._fortran import definegtin\n",
    "from GosplManager import GosplManager\n",
    "from EarthsAssistant import EarthAssist"
   ]
  },
  {
   "cell_type": "code",
   "execution_count": null,
   "id": "198222ec",
   "metadata": {},
   "outputs": [],
   "source": [
    "earth = Earth(startTime=20, endTime=0, deltaTime=1)\n",
    "earth.runTectonicSimulation()\n",
    "earth.saveDataAsNPZ()"
   ]
  },
  {
   "cell_type": "code",
   "execution_count": null,
   "id": "54e64824",
   "metadata": {},
   "outputs": [],
   "source": [
    "earth = Earth(startTime=20, endTime=0, deltaTime=1)\n",
    "earth.loadDataFromNPZ(1)"
   ]
  },
  {
   "cell_type": "code",
   "execution_count": null,
   "id": "a83b08df",
   "metadata": {},
   "outputs": [],
   "source": [
    "earthMesh = earth.getEarthMesh()\n",
    "\n",
    "plotter = pv.PlotterITK()\n",
    "plotter.add_mesh(earthMesh)\n",
    "plotter.show()"
   ]
  },
  {
   "cell_type": "code",
   "execution_count": null,
   "id": "644f7611",
   "metadata": {},
   "outputs": [],
   "source": [
    "earth.animate(lookAtLonLat=[90, 20])"
   ]
  },
  {
   "cell_type": "code",
   "execution_count": null,
   "id": "6ea31412",
   "metadata": {},
   "outputs": [],
   "source": [
    "gosplMan = GosplManager(earth, subdivisions=6)\n",
    "gosplMesh = gosplMan.createGosplDataMesh(120, runNumber=76)\n",
    "\n",
    "plotter = pv.PlotterITK()\n",
    "plotter.add_mesh(gosplMesh, scalars='heights')\n",
    "plotter.show()"
   ]
  },
  {
   "cell_type": "code",
   "execution_count": null,
   "id": "8852cd2c",
   "metadata": {},
   "outputs": [],
   "source": [
    "earth.animate(lookAtLonLat=[130, 40])"
   ]
  },
  {
   "cell_type": "code",
   "execution_count": null,
   "id": "620ceee6",
   "metadata": {
    "scrolled": true
   },
   "outputs": [],
   "source": [
    "gosplMan = GosplManager(earth, subdivisions=6)\n",
    "gosplMan.makeDirectories()\n",
    "gosplMan.createDomainNPdataFiles()\n",
    "gosplMan.createTectonicDispNPZfiles()\n",
    "gosplMan.runGosplSimulation()"
   ]
  },
  {
   "cell_type": "code",
   "execution_count": null,
   "id": "0edbc77f",
   "metadata": {},
   "outputs": [],
   "source": [
    "gosplMan.animateGosplOutput(lookAtLonLat=[130, 40])"
   ]
  },
  {
   "cell_type": "code",
   "execution_count": null,
   "id": "f8a56466",
   "metadata": {},
   "outputs": [],
   "source": [
    "earth.animate(lookAtLonLat=[0, 0])"
   ]
  },
  {
   "cell_type": "markdown",
   "id": "3c9c0997",
   "metadata": {},
   "source": [
    "After running various Gospl runs, I found weird unrealeastic topological changes happening whenever I ran the Gospl simulation for too long (Eg From 40 Mya). This weird behaviour does not appear on shorter runs (Eg 5 Mya). A potential cause of this problem is because I only have one single backwards model running, whilst the Gospl BFModel notebook tutorial seems to use multiple backwards runs.\n",
    "\n",
    "If adding multiple backwards gospl runs doesn't solve this issue, than the next solution would be to run many short but complete gospl simulations and simply stitch them together.\n",
    "\n",
    "# Comparing Backward YML Files\n",
    "\n",
    "In the BFModel tutorial, the file *backward15Ma.yml* seems to run first, followed by *backward10Ma.yml*. Apart from the domain and time section of the YML file, they seem to be similar:\n",
    "\n",
    "##### backward15Ma.ym\n",
    "``` yml\n",
    "domain:\n",
    "    npdata: 'input8/elev0Ma'\n",
    "    flowdir: 5\n",
    "    fast: True\n",
    "    backward: True\n",
    "    interp: 1\n",
    "    overlap: 2\n",
    "\n",
    "time:\n",
    "    start: -15000000.\n",
    "    end: -10000000.\n",
    "    tout: 1000000.\n",
    "    dt: 1000000.\n",
    "    tec: 1000000.\n",
    "```\n",
    "\n",
    "##### backward10Ma.yml\n",
    "\n",
    "``` yml\n",
    "domain:\n",
    "    npdata: 'input8/elev5Ma'\n",
    "    flowdir: 5\n",
    "    fast: True\n",
    "    backward: True\n",
    "    interp: 1\n",
    "    overlap: 2\n",
    "\n",
    "time:\n",
    "    start: -10000000.\n",
    "    end: 0.\n",
    "    tout: 1000000.\n",
    "    dt: 1000000.\n",
    "    tec: 1000000.\n",
    "```\n",
    "\n",
    "I need to create a new elevation NPZ file every 5 Mya"
   ]
  },
  {
   "cell_type": "code",
   "execution_count": null,
   "id": "4d6f2294",
   "metadata": {},
   "outputs": [],
   "source": []
  },
  {
   "cell_type": "code",
   "execution_count": null,
   "id": "af79ece8",
   "metadata": {},
   "outputs": [],
   "source": []
  },
  {
   "cell_type": "code",
   "execution_count": null,
   "id": "12eee78f",
   "metadata": {},
   "outputs": [],
   "source": []
  },
  {
   "cell_type": "code",
   "execution_count": null,
   "id": "ec42d2dd",
   "metadata": {},
   "outputs": [],
   "source": []
  },
  {
   "cell_type": "code",
   "execution_count": null,
   "id": "fcf36369",
   "metadata": {},
   "outputs": [],
   "source": [
    "earth = Earth(\n",
    "            startTime = 10,\n",
    "            endTime = 0,\n",
    "            deltaTime = 1,\n",
    "            baseUplift = 2000,\n",
    "            distTransRange = 1000000, \n",
    "            numToAverageOver = 10,\n",
    "            earthRadius = 6378137.,\n",
    "            useKilometres = False,\n",
    ")\n",
    "\n",
    "earth.runTectonicSimulation()"
   ]
  },
  {
   "cell_type": "code",
   "execution_count": null,
   "id": "a4a696ce",
   "metadata": {},
   "outputs": [],
   "source": [
    "earth.animate(lookAtLonLat=[80, 20], cameraZoom=1.4)"
   ]
  },
  {
   "cell_type": "code",
   "execution_count": null,
   "id": "2c38e1f0",
   "metadata": {},
   "outputs": [],
   "source": [
    "gosplMan = GosplManager(earth, subdivisions=6)\n",
    "gosplMan.createAllFilesAndRunSimulation()"
   ]
  },
  {
   "cell_type": "code",
   "execution_count": null,
   "id": "4650c683",
   "metadata": {},
   "outputs": [],
   "source": [
    "gosplMan.animateGosplOutput(lookAtLonLat=[80, 20])"
   ]
  },
  {
   "cell_type": "code",
   "execution_count": null,
   "id": "76b630b0",
   "metadata": {},
   "outputs": [],
   "source": [
    "earthMesh = earth.getEarthMesh(iteration=20)\n",
    "\n",
    "plotter = pv.PlotterITK()\n",
    "plotter.add_mesh(earthMesh)\n",
    "plotter.show()"
   ]
  },
  {
   "cell_type": "code",
   "execution_count": null,
   "id": "146d50b3",
   "metadata": {
    "scrolled": false
   },
   "outputs": [],
   "source": [
    "gosplFilenamePattern = gosplMan.thisRunDirectory + '/GosplOutputFiles/h5/gospl.{}.p0.h5'\n",
    "gosplMesh = gosplMan.createGosplDataMesh(20)\n",
    "\n",
    "plotter = pv.PlotterITK()\n",
    "plotter.add_mesh(gosplMesh, scalars='heights')\n",
    "plotter.show()"
   ]
  }
 ],
 "metadata": {
  "kernelspec": {
   "display_name": "Python 3",
   "language": "python",
   "name": "python3"
  },
  "language_info": {
   "codemirror_mode": {
    "name": "ipython",
    "version": 3
   },
   "file_extension": ".py",
   "mimetype": "text/x-python",
   "name": "python",
   "nbconvert_exporter": "python",
   "pygments_lexer": "ipython3",
   "version": "3.6.9"
  }
 },
 "nbformat": 4,
 "nbformat_minor": 5
}
