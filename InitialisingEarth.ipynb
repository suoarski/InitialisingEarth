{
 "cells": [
  {
   "cell_type": "code",
   "execution_count": 3,
   "id": "generic-partner",
   "metadata": {},
   "outputs": [],
   "source": [
    "import os\n",
    "import sys\n",
    "sys.path.insert(1, 'C:/Users/BGH360/Desktop/KilianLiss/UniSydney/Research/20210208MovingPlates/pyGplates/pygplates_rev28_python38_win64')\n",
    "\n",
    "import pygplates\n",
    "import numpy as np\n",
    "import pyvista as pv"
   ]
  },
  {
   "cell_type": "markdown",
   "id": "expected-attempt",
   "metadata": {},
   "source": [
    "## Coordinate Transformations\n",
    "\n",
    "Begin the project by defining a bunch of functions related to coordinate transformations. Most of these are related to transformations between the spherical polar coordinate system, and a cartesian (XYZ) coordinate system.\n",
    "\n",
    "I also include a function for creating quaternions used in rotation (moving tectonic plates), and for normalizing arrays (transforming their values into a desired range)."
   ]
  },
  {
   "cell_type": "code",
   "execution_count": 2,
   "id": "electoral-october",
   "metadata": {},
   "outputs": [],
   "source": [
    "#Coordinate transformation from spherical polar to cartesian\n",
    "def polarToCartesian(R, Theta, Phi):\n",
    "    X = R * np.cos(Theta) * np.sin(Phi)\n",
    "    Y = R * np.sin(Theta) * np.sin(Phi)\n",
    "    Z = R * np.cos(Phi)\n",
    "    return X, Y, Z\n",
    "\n",
    "#Coordinate transformation from cartesian to polar\n",
    "def cartesianToPolarCoords(X, Y, Z):\n",
    "    R = (X**2 + Y**2 + Z**2)**0.5\n",
    "    Theta = np.arctan2(Y, X)\n",
    "    Phi = np.arccos(Z / R)\n",
    "    return R, Theta, Phi\n",
    "\n",
    "#Takes longatude and latitude coordinates and converts them to cartesian coordinates\n",
    "def lonLatToCartesian(lon, lat, radius=1.0):\n",
    "    X, Y, Z = polarToCartesian(radius, np.radians(lon+180), np.radians(90 - lat))\n",
    "    return np.stack((X, Y, Z), axis=-1)\n",
    "\n",
    "#Takes cartesian coordinates and converts them to longatude and latitude\n",
    "def cartesianToLonLat(X, Y, Z):\n",
    "    r, theta, phi = cartesianToPolarCoords(X, Y, Z)\n",
    "    theta, phi = np.degrees(theta), np.degrees(phi)\n",
    "    lon, lat = theta - 180, 90 - phi\n",
    "    lon[lon < -180] = lon[lon < -180] + 360\n",
    "    return lon, lat\n",
    "\n",
    "#Function for moving vertices on a sphere along the radial direction by amount of delta radius (dr)\n",
    "def moveAlongRadialDirection(XYZ, dr):\n",
    "    r, theta, phi = cartesianToPolarCoords(XYZ[:, 0], XYZ[:, 1], XYZ[:, 2])\n",
    "    newSphereX = XYZ[:, 0] + np.cos(theta) * np.sin(phi) * dr\n",
    "    newSphereY = XYZ[:, 1] + np.sin(theta) * np.sin(phi) * dr\n",
    "    newSphereZ = XYZ[:, 2] + np.cos(phi) * dr\n",
    "    return np.stack((newSphereX, newSphereY, newSphereZ), axis=-1)\n",
    "\n",
    "#Given a sphere XYZ coordinates, we set the radius of all coordinates\n",
    "def setRadialComponent(XYZ, r):\n",
    "    rad, theta, phi = cartesianToPolarCoords(XYZ[:, 0], XYZ[:, 1], XYZ[:, 2])\n",
    "    newSphereX = np.cos(theta) * np.sin(phi) * r\n",
    "    newSphereY = np.sin(theta) * np.sin(phi) * r\n",
    "    newSphereZ = np.cos(phi) * r\n",
    "    return np.stack((newSphereX, newSphereY, newSphereZ), axis=-1)\n",
    "\n",
    "#Returns a rotation quaternion\n",
    "def quaternion(axis, angle):\n",
    "    return [np.sin(angle/2) * axis[0], \n",
    "            np.sin(angle/2) * axis[1], \n",
    "            np.sin(angle/2) * axis[2], \n",
    "            np.cos(angle/2)]\n",
    "\n",
    "#Normalizes the height map or optionally brings the heightmap within specified height limits\n",
    "def normalizeArray(A, minValue=0.0, maxValue=1.0):\n",
    "    A = A - min(A)\n",
    "    A = A / (max(A) - min(A))\n",
    "    return A * (maxValue - minValue) + minValue"
   ]
  }
 ],
 "metadata": {
  "kernelspec": {
   "display_name": "Python 3",
   "language": "python",
   "name": "python3"
  },
  "language_info": {
   "codemirror_mode": {
    "name": "ipython",
    "version": 3
   },
   "file_extension": ".py",
   "mimetype": "text/x-python",
   "name": "python",
   "nbconvert_exporter": "python",
   "pygments_lexer": "ipython3",
   "version": "3.8.7"
  }
 },
 "nbformat": 4,
 "nbformat_minor": 5
}
