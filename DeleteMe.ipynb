{
 "cells": [
  {
   "cell_type": "markdown",
   "id": "2c04198b",
   "metadata": {},
   "source": [
    "# Initialising Earth\n",
    "A series of jupyter notebooks demonstrating python code for procedural earth surface dynamics with a particular focus on tectonic plates. This is still a work in progress and changes will be made regularly.\n",
    "\n",
    "\n",
    "### Running the Notebooks with Docker\n",
    "\n",
    "It is reccomended that these notebooks are run within a docker container. To do so, first download and install [Docker Desktop](https://www.docker.com/). Once installed, open CMD (for windows) and pull the earthinit image by running the following command:\n",
    "\n",
    "```\n",
    "docker pull suoarski/earthinit\n",
    "```\n",
    "\n",
    "Once the image has been pulled, clone a copy of the [InitialisingEarth Github](https://github.com/suoarski/InitialisingEarth) repository to some directory on your computer. Then, open Docker Desktop, under *Images* run the newly created docker image named *suoarski/earthinit* as follows:\n",
    "\n",
    "<div>\n",
    "<img src=\"files/Images/Docker1.png\" width=\"600\">\n",
    "</div>\n",
    "\n",
    "In the new pop up window, under *Option Settings* set the following attributes:\n",
    "\n",
    "- **Container Name**: Earth Init (or any other name)\n",
    "- **Local Host**: 1000 (or any other unused local port)\n",
    "- **Host Path**: *C:\\Path\\To\\InitialisingEarth\\clone*\n",
    "- **Container Path**: */live/share*\n",
    "\n",
    "Then click run.\n",
    "\n",
    "<div>\n",
    "<img src=\"files/Images/Docker2.png\" width=\"600\">\n",
    "</div>\n",
    "\n",
    "This should create a new docker container. Clicking on *Open In Browser* should open a Jupyter Notebook environment in your local browser, which can be used to run the Initialising Earth notebook tutorials.\n",
    "\n",
    "<div>\n",
    "<img src=\"files/Images/Docker3.png\" width=\"600\">\n",
    "</div>\n",
    "\n",
    "If the container is properly set up, you should find the files of the cloned github repository by navigating to the *share* directory within the Jupyter Notebook environment. The notebook tutorials should then be found under the *NotebookTutorials* directory, where each tutorial has it's own sub directory.\n",
    "\n"
   ]
  }
 ],
 "metadata": {
  "kernelspec": {
   "display_name": "Python 3",
   "language": "python",
   "name": "python3"
  },
  "language_info": {
   "codemirror_mode": {
    "name": "ipython",
    "version": 3
   },
   "file_extension": ".py",
   "mimetype": "text/x-python",
   "name": "python",
   "nbconvert_exporter": "python",
   "pygments_lexer": "ipython3",
   "version": "3.6.9"
  }
 },
 "nbformat": 4,
 "nbformat_minor": 5
}
